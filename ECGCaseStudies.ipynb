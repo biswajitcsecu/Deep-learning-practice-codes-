{
 "cells": [
  {
   "cell_type": "code",
   "execution_count": 23,
   "metadata": {},
   "outputs": [],
   "source": [
    "from __future__ import print_function\n",
    "\n",
    "%matplotlib inline\n",
    "%config InlineBackend.figure_format = 'retina'\n",
    "import matplotlib.pyplot as plt\n",
    "import pandas as pd\n",
    "import numpy as np\n",
    "import seaborn as sns\n",
    "import warnings\n",
    "from datetime import datetime\n",
    "from matplotlib.colors import ListedColormap\n",
    "from sklearn.datasets import make_classification, make_moons, make_circles\n",
    "from sklearn.metrics import confusion_matrix, classification_report, mean_squared_error, mean_absolute_error, r2_score\n",
    "from sklearn.linear_model import LogisticRegression\n",
    "from sklearn.utils import shuffle\n",
    "from keras.models import Sequential\n",
    "from keras.layers import Dense, Dropout, BatchNormalization, Activation\n",
    "from keras.optimizers import Adam\n",
    "from keras.callbacks import EarlyStopping\n",
    "from keras.utils.np_utils import to_categorical\n",
    "from sklearn.preprocessing import StandardScaler, LabelEncoder, OneHotEncoder, MinMaxScaler\n",
    "from sklearn.model_selection import train_test_split, cross_val_score, StratifiedKFold, KFold\n",
    "import keras.backend as K\n",
    "from keras.wrappers.scikit_learn import KerasClassifier\n",
    "\n",
    "warnings.filterwarnings('ignore')\n",
    "pd.options.display.float_format = '{:,.2f}'.format\n",
    "pd.set_option('display.max_rows', 100)\n",
    "pd.set_option('display.max_columns', 200)"
   ]
  },
  {
   "cell_type": "code",
   "execution_count": 24,
   "metadata": {},
   "outputs": [],
   "source": [
    "def plot_decision_boundary(func, X, y, figsize=(9, 6)):\n",
    "    amin, bmin = X.min(axis=0) - 0.1\n",
    "    amax, bmax = X.max(axis=0) + 0.1\n",
    "    hticks = np.linspace(amin, amax, 101)\n",
    "    vticks = np.linspace(bmin, bmax, 101)\n",
    "    \n",
    "    aa, bb = np.meshgrid(hticks, vticks)\n",
    "    ab = np.c_[aa.ravel(), bb.ravel()]\n",
    "    c = func(ab)\n",
    "    cc = c.reshape(aa.shape)\n",
    "\n",
    "    cm = plt.cm.RdBu\n",
    "    cm_bright = ListedColormap(['#FF0000', '#0000FF'])\n",
    "    \n",
    "    fig, ax = plt.subplots(figsize=figsize)\n",
    "    contour = plt.contourf(aa, bb, cc, cmap=cm, alpha=0.8)\n",
    "    \n",
    "    ax_c = fig.colorbar(contour)\n",
    "    ax_c.set_label(\"$P(y = 1)$\")\n",
    "    ax_c.set_ticks([0, 0.25, 0.5, 0.75, 1])\n",
    "    \n",
    "    plt.scatter(X[:, 0], X[:, 1], c=y, cmap=cm_bright)\n",
    "    plt.xlim(amin, amax)\n",
    "    plt.ylim(bmin, bmax)\n",
    "\n",
    "def plot_multiclass_decision_boundary(model, X, y):\n",
    "    x_min, x_max = X[:, 0].min() - 0.1, X[:, 0].max() + 0.1\n",
    "    y_min, y_max = X[:, 1].min() - 0.1, X[:, 1].max() + 0.1\n",
    "    xx, yy = np.meshgrid(np.linspace(x_min, x_max, 101), np.linspace(y_min, y_max, 101))\n",
    "    cmap = ListedColormap(['#FF0000', '#00FF00', '#0000FF'])\n",
    "\n",
    "    Z = model.predict_classes(np.c_[xx.ravel(), yy.ravel()], verbose=0)\n",
    "    Z = Z.reshape(xx.shape)\n",
    "    fig = plt.figure(figsize=(8, 8))\n",
    "    plt.contourf(xx, yy, Z, cmap=plt.cm.Spectral, alpha=0.8)\n",
    "    plt.scatter(X[:, 0], X[:, 1], c=y, s=40, cmap=plt.cm.RdYlBu)\n",
    "    plt.xlim(xx.min(), xx.max())\n",
    "    plt.ylim(yy.min(), yy.max())\n",
    "    \n",
    "def plot_data(X, y, figsize=None):\n",
    "    if not figsize:\n",
    "        figsize = (8, 6)\n",
    "    plt.figure(figsize=figsize)\n",
    "    plt.plot(X[y==0, 0], X[y==0, 1], 'or', alpha=0.5, label=0)\n",
    "    plt.plot(X[y==1, 0], X[y==1, 1], 'ob', alpha=0.5, label=1)\n",
    "    plt.xlim((min(X[:, 0])-0.1, max(X[:, 0])+0.1))\n",
    "    plt.ylim((min(X[:, 1])-0.1, max(X[:, 1])+0.1))\n",
    "    plt.legend()\n",
    "\n",
    "def plot_loss_accuracy(history):\n",
    "    historydf = pd.DataFrame(history.history, index=history.epoch)\n",
    "    plt.figure(figsize=(8, 6))\n",
    "    historydf.plot(ylim=(0, max(1, historydf.values.max())))\n",
    "    loss = history.history['loss'][-1]\n",
    "    acc = history.history['acc'][-1]\n",
    "    plt.title('Loss: %.3f, Accuracy: %.3f' % (loss, acc))\n",
    "\n",
    "def plot_loss(history):\n",
    "    historydf = pd.DataFrame(history.history, index=history.epoch)\n",
    "    plt.figure(figsize=(8, 6))\n",
    "    historydf.plot(ylim=(0, historydf.values.max()))\n",
    "    plt.title('Loss: %.3f' % history.history['loss'][-1])\n",
    "    \n",
    "def plot_confusion_matrix(model, X, y):\n",
    "    y_pred = model.predict_classes(X, verbose=0)\n",
    "    plt.figure(figsize=(8, 6))\n",
    "    sns.heatmap(pd.DataFrame(confusion_matrix(y, y_pred)), annot=True, fmt='d', cmap='YlGnBu', alpha=0.8, vmin=0)\n",
    "\n",
    "def plot_compare_histories(history_list, name_list, plot_accuracy=True):\n",
    "    dflist = []\n",
    "    min_epoch = len(history_list[0].epoch)\n",
    "    losses = []\n",
    "    for history in history_list:\n",
    "        h = {key: val for key, val in history.history.items() if not key.startswith('val_')}\n",
    "        dflist.append(pd.DataFrame(h, index=history.epoch))\n",
    "        min_epoch = min(min_epoch, len(history.epoch))\n",
    "        losses.append(h['loss'][-1])\n",
    "\n",
    "    historydf = pd.concat(dflist, axis=1)\n",
    "\n",
    "    metrics = dflist[0].columns\n",
    "    idx = pd.MultiIndex.from_product([name_list, metrics], names=['model', 'metric'])\n",
    "    historydf.columns = idx\n",
    "    \n",
    "    plt.figure(figsize=(6, 8))\n",
    "\n",
    "    ax = plt.subplot(211)\n",
    "    historydf.xs('loss', axis=1, level='metric').plot(ylim=(0,1), ax=ax)\n",
    "    plt.title(\"Training Loss: \" + ' vs '.join([str(round(x, 3)) for x in losses]))\n",
    "    \n",
    "    if plot_accuracy:\n",
    "        ax = plt.subplot(212)\n",
    "        historydf.xs('acc', axis=1, level='metric').plot(ylim=(0,1), ax=ax)\n",
    "        plt.title(\"Accuracy\")\n",
    "        plt.xlabel(\"Epochs\")\n",
    "    \n",
    "    plt.xlim(0, min_epoch-1)\n",
    "    plt.tight_layout()\n",
    "    \n",
    "def make_sine_wave():\n",
    "    c = 3\n",
    "    num = 2400\n",
    "    step = num/(c*4)\n",
    "    np.random.seed(0)\n",
    "    x0 = np.linspace(-c*np.pi, c*np.pi, num)\n",
    "    x1 = np.sin(x0)\n",
    "    noise = np.random.normal(0, 0.1, num) + 0.1\n",
    "    noise = np.sign(x1) * np.abs(noise)\n",
    "    x1  = x1 + noise\n",
    "    x0 = x0 + (np.asarray(range(num)) / step) * 0.3\n",
    "    X = np.column_stack((x0, x1))\n",
    "    y = np.asarray([int((i/step)%2==1) for i in range(len(x0))])\n",
    "    return X, y\n",
    "\n",
    "def make_multiclass(N=500, D=2, K=3):\n",
    "    np.random.seed(0)\n",
    "    X = np.zeros((N*K, D))\n",
    "    y = np.zeros(N*K)\n",
    "    for j in range(K):\n",
    "        ix = range(N*j, N*(j+1))\n",
    "        # radius\n",
    "        r = np.linspace(0.0,1,N)\n",
    "        # theta\n",
    "        t = np.linspace(j*4,(j+1)*4,N) + np.random.randn(N)*0.2\n",
    "        X[ix] = np.c_[r*np.sin(t), r*np.cos(t)]\n",
    "        y[ix] = j\n",
    "    fig = plt.figure(figsize=(6, 6))\n",
    "    plt.scatter(X[:, 0], X[:, 1], c=y, s=40, cmap=plt.cm.RdYlBu, alpha=0.8)\n",
    "    plt.xlim([-1,1])\n",
    "    plt.ylim([-1,1])\n",
    "    return X, y\n"
   ]
  },
  {
   "cell_type": "code",
   "execution_count": 25,
   "metadata": {},
   "outputs": [
    {
     "data": {
      "text/html": [
       "<div>\n",
       "<style scoped>\n",
       "    .dataframe tbody tr th:only-of-type {\n",
       "        vertical-align: middle;\n",
       "    }\n",
       "\n",
       "    .dataframe tbody tr th {\n",
       "        vertical-align: top;\n",
       "    }\n",
       "\n",
       "    .dataframe thead th {\n",
       "        text-align: right;\n",
       "    }\n",
       "</style>\n",
       "<table border=\"1\" class=\"dataframe\">\n",
       "  <thead>\n",
       "    <tr style=\"text-align: right;\">\n",
       "      <th></th>\n",
       "      <th>24BITB</th>\n",
       "      <th>24BITC</th>\n",
       "      <th>24BITD</th>\n",
       "      <th>RL24BITCAL</th>\n",
       "    </tr>\n",
       "  </thead>\n",
       "  <tbody>\n",
       "    <tr>\n",
       "      <th>0</th>\n",
       "      <td>-0.07</td>\n",
       "      <td>-0.56</td>\n",
       "      <td>-1.50</td>\n",
       "      <td>-2.90</td>\n",
       "    </tr>\n",
       "    <tr>\n",
       "      <th>1</th>\n",
       "      <td>-0.07</td>\n",
       "      <td>-0.56</td>\n",
       "      <td>-1.50</td>\n",
       "      <td>-2.89</td>\n",
       "    </tr>\n",
       "    <tr>\n",
       "      <th>2</th>\n",
       "      <td>-0.06</td>\n",
       "      <td>-0.56</td>\n",
       "      <td>-1.49</td>\n",
       "      <td>-2.88</td>\n",
       "    </tr>\n",
       "    <tr>\n",
       "      <th>3</th>\n",
       "      <td>-0.06</td>\n",
       "      <td>-0.56</td>\n",
       "      <td>-1.50</td>\n",
       "      <td>-3.04</td>\n",
       "    </tr>\n",
       "    <tr>\n",
       "      <th>4</th>\n",
       "      <td>-0.07</td>\n",
       "      <td>-0.56</td>\n",
       "      <td>-1.49</td>\n",
       "      <td>-3.05</td>\n",
       "    </tr>\n",
       "  </tbody>\n",
       "</table>\n",
       "</div>"
      ],
      "text/plain": [
       "   24BITB  24BITC  24BITD  RL24BITCAL\n",
       "0   -0.07   -0.56   -1.50       -2.90\n",
       "1   -0.07   -0.56   -1.50       -2.89\n",
       "2   -0.06   -0.56   -1.49       -2.88\n",
       "3   -0.06   -0.56   -1.50       -3.04\n",
       "4   -0.07   -0.56   -1.49       -3.05"
      ]
     },
     "execution_count": 25,
     "metadata": {},
     "output_type": "execute_result"
    }
   ],
   "source": [
    "rawdf = pd.read_csv('SampleECG.csv')\n",
    "rawdf.head()\n"
   ]
  },
  {
   "cell_type": "code",
   "execution_count": 26,
   "metadata": {},
   "outputs": [
    {
     "name": "stdout",
     "output_type": "stream",
     "text": [
      "<class 'pandas.core.frame.DataFrame'>\n",
      "RangeIndex: 120798 entries, 0 to 120797\n",
      "Data columns (total 4 columns):\n",
      "24BITB        120798 non-null float64\n",
      "24BITC        120798 non-null float64\n",
      "24BITD        120798 non-null float64\n",
      "RL24BITCAL    120798 non-null float64\n",
      "dtypes: float64(4)\n",
      "memory usage: 3.7 MB\n"
     ]
    },
    {
     "data": {
      "text/plain": [
       "-0.06   0.01\n",
       "-0.06   0.01\n",
       "-0.06   0.01\n",
       "-0.06   0.01\n",
       "-0.07   0.01\n",
       "-0.06   0.01\n",
       "-0.06   0.01\n",
       "-0.07   0.01\n",
       "-0.07   0.01\n",
       "-0.06   0.01\n",
       "-0.06   0.01\n",
       "-0.06   0.01\n",
       "-0.07   0.01\n",
       "-0.07   0.01\n",
       "-0.06   0.01\n",
       "-0.07   0.01\n",
       "-0.06   0.01\n",
       "-0.07   0.01\n",
       "-0.07   0.01\n",
       "-0.07   0.01\n",
       "-0.06   0.01\n",
       "-0.07   0.01\n",
       "-0.06   0.01\n",
       "-0.07   0.01\n",
       "-0.07   0.01\n",
       "-0.06   0.01\n",
       "-0.07   0.01\n",
       "-0.07   0.01\n",
       "-0.07   0.01\n",
       "-0.06   0.01\n",
       "-0.07   0.01\n",
       "-0.07   0.01\n",
       "-0.07   0.00\n",
       "-0.07   0.00\n",
       "-0.07   0.00\n",
       "-0.06   0.00\n",
       "-0.07   0.00\n",
       "-0.07   0.00\n",
       "-0.08   0.00\n",
       "-0.07   0.00\n",
       "-0.07   0.00\n",
       "-0.07   0.00\n",
       "-0.07   0.00\n",
       "-0.08   0.00\n",
       "-0.10   0.00\n",
       "-0.07   0.00\n",
       "-0.10   0.00\n",
       "-0.10   0.00\n",
       "-0.10   0.00\n",
       "-0.09   0.00\n",
       "        ... \n",
       "0.17    0.00\n",
       "0.44    0.00\n",
       "0.20    0.00\n",
       "-0.17   0.00\n",
       "0.20    0.00\n",
       "0.27    0.00\n",
       "0.44    0.00\n",
       "0.34    0.00\n",
       "0.24    0.00\n",
       "0.34    0.00\n",
       "0.23    0.00\n",
       "0.24    0.00\n",
       "0.33    0.00\n",
       "0.16    0.00\n",
       "0.17    0.00\n",
       "0.22    0.00\n",
       "0.32    0.00\n",
       "0.32    0.00\n",
       "0.29    0.00\n",
       "0.26    0.00\n",
       "0.25    0.00\n",
       "0.32    0.00\n",
       "0.28    0.00\n",
       "0.20    0.00\n",
       "0.34    0.00\n",
       "0.26    0.00\n",
       "0.31    0.00\n",
       "0.17    0.00\n",
       "0.24    0.00\n",
       "0.21    0.00\n",
       "0.25    0.00\n",
       "0.22    0.00\n",
       "0.22    0.00\n",
       "0.19    0.00\n",
       "0.22    0.00\n",
       "0.28    0.00\n",
       "0.25    0.00\n",
       "0.30    0.00\n",
       "0.37    0.00\n",
       "0.34    0.00\n",
       "0.29    0.00\n",
       "0.31    0.00\n",
       "0.19    0.00\n",
       "0.39    0.00\n",
       "0.26    0.00\n",
       "0.17    0.00\n",
       "0.16    0.00\n",
       "0.19    0.00\n",
       "0.23    0.00\n",
       "0.17    0.00\n",
       "Name: 24BITB, Length: 1663, dtype: float64"
      ]
     },
     "execution_count": 26,
     "metadata": {},
     "output_type": "execute_result"
    }
   ],
   "source": [
    "rawdf.info()\n",
    "(rawdf['24BITB'].value_counts())/rawdf['24BITB'].count()"
   ]
  },
  {
   "cell_type": "code",
   "execution_count": 27,
   "metadata": {},
   "outputs": [
    {
     "data": {
      "text/plain": [
       "<matplotlib.axes._subplots.AxesSubplot at 0x7f6740564828>"
      ]
     },
     "execution_count": 27,
     "metadata": {},
     "output_type": "execute_result"
    },
    {
     "data": {
      "image/png": "[encoded data removed]",
      "text/plain": [
       "<Figure size 360x360 with 2 Axes>"
      ]
     },
     "metadata": {
      "image/png": {
       "height": 309,
       "width": 312
      }
     },
     "output_type": "display_data"
    }
   ],
   "source": [
    "plt.figure(figsize=(5, 5))\n",
    "sns.heatmap(rawdf.corr()[['24BITB']], annot=True, vmin=-1, vmax=1)"
   ]
  },
  {
   "cell_type": "code",
   "execution_count": 28,
   "metadata": {},
   "outputs": [
    {
     "data": {
      "text/plain": [
       "<matplotlib.axes._subplots.AxesSubplot at 0x7f67404d0c18>"
      ]
     },
     "execution_count": 28,
     "metadata": {},
     "output_type": "execute_result"
    },
    {
     "data": {
      "image/png": "[encoded data removed]",
      "text/plain": [
       "<Figure size 720x576 with 2 Axes>"
      ]
     },
     "metadata": {
      "image/png": {
       "height": 465,
       "width": 546
      }
     },
     "output_type": "display_data"
    }
   ],
   "source": [
    "plt.figure(figsize=(10, 8))\n",
    "sns.heatmap(rawdf.corr(), annot=True, square=True, vmin=-1, vmax=1)\n"
   ]
  },
  {
   "cell_type": "code",
   "execution_count": 29,
   "metadata": {},
   "outputs": [
    {
     "data": {
      "image/png": "[encoded data removed]",
      "text/plain": [
       "<Figure size 864x576 with 4 Axes>"
      ]
     },
     "metadata": {
      "image/png": {
       "height": 568,
       "width": 857
      }
     },
     "output_type": "display_data"
    }
   ],
   "source": [
    "rawdf.hist(figsize=(12, 8))\n",
    "plt.style.use('ggplot')\n",
    "plt.tight_layout()"
   ]
  },
  {
   "cell_type": "code",
   "execution_count": 30,
   "metadata": {},
   "outputs": [
    {
     "data": {
      "text/html": [
       "<div>\n",
       "<style scoped>\n",
       "    .dataframe tbody tr th:only-of-type {\n",
       "        vertical-align: middle;\n",
       "    }\n",
       "\n",
       "    .dataframe tbody tr th {\n",
       "        vertical-align: top;\n",
       "    }\n",
       "\n",
       "    .dataframe thead th {\n",
       "        text-align: right;\n",
       "    }\n",
       "</style>\n",
       "<table border=\"1\" class=\"dataframe\">\n",
       "  <thead>\n",
       "    <tr style=\"text-align: right;\">\n",
       "      <th></th>\n",
       "      <th>24BITB</th>\n",
       "      <th>24BITC</th>\n",
       "      <th>24BITD</th>\n",
       "      <th>RL24BITCAL</th>\n",
       "      <th>RL24BITCAL</th>\n",
       "    </tr>\n",
       "  </thead>\n",
       "  <tbody>\n",
       "    <tr>\n",
       "      <th>0</th>\n",
       "      <td>-0.32</td>\n",
       "      <td>-0.17</td>\n",
       "      <td>0.45</td>\n",
       "      <td>-2.90</td>\n",
       "      <td>-2.90</td>\n",
       "    </tr>\n",
       "    <tr>\n",
       "      <th>1</th>\n",
       "      <td>-0.32</td>\n",
       "      <td>-0.17</td>\n",
       "      <td>0.39</td>\n",
       "      <td>-2.89</td>\n",
       "      <td>-2.89</td>\n",
       "    </tr>\n",
       "    <tr>\n",
       "      <th>2</th>\n",
       "      <td>-0.31</td>\n",
       "      <td>-0.15</td>\n",
       "      <td>0.63</td>\n",
       "      <td>-2.88</td>\n",
       "      <td>-2.88</td>\n",
       "    </tr>\n",
       "    <tr>\n",
       "      <th>3</th>\n",
       "      <td>-0.31</td>\n",
       "      <td>-0.17</td>\n",
       "      <td>0.44</td>\n",
       "      <td>-3.04</td>\n",
       "      <td>-3.04</td>\n",
       "    </tr>\n",
       "    <tr>\n",
       "      <th>4</th>\n",
       "      <td>-0.33</td>\n",
       "      <td>-0.17</td>\n",
       "      <td>0.58</td>\n",
       "      <td>-3.05</td>\n",
       "      <td>-3.05</td>\n",
       "    </tr>\n",
       "  </tbody>\n",
       "</table>\n",
       "</div>"
      ],
      "text/plain": [
       "   24BITB  24BITC  24BITD  RL24BITCAL  RL24BITCAL\n",
       "0   -0.32   -0.17    0.45       -2.90       -2.90\n",
       "1   -0.32   -0.17    0.39       -2.89       -2.89\n",
       "2   -0.31   -0.15    0.63       -2.88       -2.88\n",
       "3   -0.31   -0.17    0.44       -3.04       -3.04\n",
       "4   -0.33   -0.17    0.58       -3.05       -3.05"
      ]
     },
     "execution_count": 30,
     "metadata": {},
     "output_type": "execute_result"
    }
   ],
   "source": [
    "df = rawdf.copy()\n",
    "ss = StandardScaler()\n",
    "scale_features = ['24BITB', '24BITC', '24BITD']\n",
    "df[scale_features] = ss.fit_transform(df[scale_features])\n",
    "\n",
    "categorical_features = ['RL24BITCAL', 'RL24BITCAL']\n",
    "df_cat = pd.get_dummies(df[categorical_features])\n",
    "df = df.drop(categorical_features, axis=1)\n",
    "df = pd.concat([df, df_cat], axis=1)\n",
    "df.head()"
   ]
  },
  {
   "cell_type": "code",
   "execution_count": 31,
   "metadata": {},
   "outputs": [
    {
     "data": {
      "text/html": [
       "<div>\n",
       "<style scoped>\n",
       "    .dataframe tbody tr th:only-of-type {\n",
       "        vertical-align: middle;\n",
       "    }\n",
       "\n",
       "    .dataframe tbody tr th {\n",
       "        vertical-align: top;\n",
       "    }\n",
       "\n",
       "    .dataframe thead th {\n",
       "        text-align: right;\n",
       "    }\n",
       "</style>\n",
       "<table border=\"1\" class=\"dataframe\">\n",
       "  <thead>\n",
       "    <tr style=\"text-align: right;\">\n",
       "      <th></th>\n",
       "      <th>RL24BITCAL</th>\n",
       "      <th>RL24BITCAL</th>\n",
       "    </tr>\n",
       "  </thead>\n",
       "  <tbody>\n",
       "    <tr>\n",
       "      <th>0</th>\n",
       "      <td>-2.90</td>\n",
       "      <td>-2.90</td>\n",
       "    </tr>\n",
       "    <tr>\n",
       "      <th>1</th>\n",
       "      <td>-2.89</td>\n",
       "      <td>-2.89</td>\n",
       "    </tr>\n",
       "    <tr>\n",
       "      <th>2</th>\n",
       "      <td>-2.88</td>\n",
       "      <td>-2.88</td>\n",
       "    </tr>\n",
       "    <tr>\n",
       "      <th>3</th>\n",
       "      <td>-3.04</td>\n",
       "      <td>-3.04</td>\n",
       "    </tr>\n",
       "    <tr>\n",
       "      <th>4</th>\n",
       "      <td>-3.05</td>\n",
       "      <td>-3.05</td>\n",
       "    </tr>\n",
       "  </tbody>\n",
       "</table>\n",
       "</div>"
      ],
      "text/plain": [
       "   RL24BITCAL  RL24BITCAL\n",
       "0       -2.90       -2.90\n",
       "1       -2.89       -2.89\n",
       "2       -2.88       -2.88\n",
       "3       -3.04       -3.04\n",
       "4       -3.05       -3.05"
      ]
     },
     "execution_count": 31,
     "metadata": {},
     "output_type": "execute_result"
    }
   ],
   "source": [
    "df.filter(regex=(\"RL24BITCAL.*\")).head()"
   ]
  },
  {
   "cell_type": "code",
   "execution_count": 32,
   "metadata": {},
   "outputs": [
    {
     "data": {
      "text/html": [
       "<div>\n",
       "<style scoped>\n",
       "    .dataframe tbody tr th:only-of-type {\n",
       "        vertical-align: middle;\n",
       "    }\n",
       "\n",
       "    .dataframe tbody tr th {\n",
       "        vertical-align: top;\n",
       "    }\n",
       "\n",
       "    .dataframe thead th {\n",
       "        text-align: right;\n",
       "    }\n",
       "</style>\n",
       "<table border=\"1\" class=\"dataframe\">\n",
       "  <thead>\n",
       "    <tr style=\"text-align: right;\">\n",
       "      <th></th>\n",
       "      <th>24BITB</th>\n",
       "      <th>24BITC</th>\n",
       "      <th>24BITD</th>\n",
       "      <th>RL24BITCAL</th>\n",
       "      <th>RL24BITCAL</th>\n",
       "    </tr>\n",
       "  </thead>\n",
       "  <tbody>\n",
       "    <tr>\n",
       "      <th>count</th>\n",
       "      <td>120,798.00</td>\n",
       "      <td>120,798.00</td>\n",
       "      <td>120,798.00</td>\n",
       "      <td>120,798.00</td>\n",
       "      <td>120,798.00</td>\n",
       "    </tr>\n",
       "    <tr>\n",
       "      <th>mean</th>\n",
       "      <td>-0.00</td>\n",
       "      <td>-0.00</td>\n",
       "      <td>-0.00</td>\n",
       "      <td>-3.05</td>\n",
       "      <td>-3.05</td>\n",
       "    </tr>\n",
       "    <tr>\n",
       "      <th>std</th>\n",
       "      <td>1.00</td>\n",
       "      <td>1.00</td>\n",
       "      <td>1.00</td>\n",
       "      <td>0.15</td>\n",
       "      <td>0.15</td>\n",
       "    </tr>\n",
       "    <tr>\n",
       "      <th>min</th>\n",
       "      <td>-1.55</td>\n",
       "      <td>-0.85</td>\n",
       "      <td>-5.31</td>\n",
       "      <td>-3.57</td>\n",
       "      <td>-3.57</td>\n",
       "    </tr>\n",
       "    <tr>\n",
       "      <th>25%</th>\n",
       "      <td>-0.51</td>\n",
       "      <td>-0.26</td>\n",
       "      <td>-0.30</td>\n",
       "      <td>-3.19</td>\n",
       "      <td>-3.19</td>\n",
       "    </tr>\n",
       "    <tr>\n",
       "      <th>50%</th>\n",
       "      <td>-0.31</td>\n",
       "      <td>-0.16</td>\n",
       "      <td>0.01</td>\n",
       "      <td>-3.05</td>\n",
       "      <td>-3.05</td>\n",
       "    </tr>\n",
       "    <tr>\n",
       "      <th>75%</th>\n",
       "      <td>0.08</td>\n",
       "      <td>0.06</td>\n",
       "      <td>0.28</td>\n",
       "      <td>-2.90</td>\n",
       "      <td>-2.90</td>\n",
       "    </tr>\n",
       "    <tr>\n",
       "      <th>max</th>\n",
       "      <td>5.42</td>\n",
       "      <td>172.23</td>\n",
       "      <td>6.70</td>\n",
       "      <td>-2.57</td>\n",
       "      <td>-2.57</td>\n",
       "    </tr>\n",
       "  </tbody>\n",
       "</table>\n",
       "</div>"
      ],
      "text/plain": [
       "          24BITB     24BITC     24BITD  RL24BITCAL  RL24BITCAL\n",
       "count 120,798.00 120,798.00 120,798.00  120,798.00  120,798.00\n",
       "mean       -0.00      -0.00      -0.00       -3.05       -3.05\n",
       "std         1.00       1.00       1.00        0.15        0.15\n",
       "min        -1.55      -0.85      -5.31       -3.57       -3.57\n",
       "25%        -0.51      -0.26      -0.30       -3.19       -3.19\n",
       "50%        -0.31      -0.16       0.01       -3.05       -3.05\n",
       "75%         0.08       0.06       0.28       -2.90       -2.90\n",
       "max         5.42     172.23       6.70       -2.57       -2.57"
      ]
     },
     "execution_count": 32,
     "metadata": {},
     "output_type": "execute_result"
    }
   ],
   "source": [
    "df.describe()"
   ]
  },
  {
   "cell_type": "code",
   "execution_count": 33,
   "metadata": {},
   "outputs": [
    {
     "name": "stdout",
     "output_type": "stream",
     "text": [
      "(84558, 4) (84558,) (36240, 4) (36240,)\n"
     ]
    }
   ],
   "source": [
    "X = df.drop('24BITB', axis=1).values\n",
    "y = df['24BITB'].values\n",
    "\n",
    "X_train, X_test, y_train, y_test = train_test_split(X, y, test_size=0.3, random_state=0)\n",
    "print(X_train.shape, y_train.shape, X_test.shape, y_test.shape)"
   ]
  },
  {
   "cell_type": "code",
   "execution_count": null,
   "metadata": {},
   "outputs": [],
   "source": [
    "lr_model = Sequential()\n",
    "lr_model.add(Dense(1, input_shape=(X_train.shape[1],), activation='sigmoid'))\n",
    "\n",
    "lr_model.compile(Adam(lr=0.01), 'binary_crossentropy', metrics=['accuracy'])\n",
    "\n",
    "lr_history = lr_model.fit(X_train, y_train, verbose=0, epochs=30)\n",
    "plot_loss_accuracy(lr_history)"
   ]
  },
  {
   "cell_type": "code",
   "execution_count": null,
   "metadata": {},
   "outputs": [],
   "source": [
    "y_pred = lr_model.predict_classes(X_test, verbose=0)\n",
    "print(classification_report(y_test, y_pred))\n",
    "plot_confusion_matrix(lr_model, X_test, y_test)"
   ]
  },
  {
   "cell_type": "code",
   "execution_count": null,
   "metadata": {},
   "outputs": [],
   "source": [
    "def get_model():\n",
    "    lr_model = Sequential()\n",
    "    lr_model.add(Dense(1, input_shape=(X_train.shape[1],), activation='sigmoid'))\n",
    "    lr_model.compile(Adam(lr=0.01), 'binary_crossentropy', metrics=['accuracy'])\n",
    "    return lr_model\n",
    "\n",
    "new_X, new_y = shuffle(X, y, random_state=0)\n",
    "model = KerasClassifier(build_fn=get_model, epochs=5, verbose=0)\n",
    "scores = cross_val_score(model, new_X, new_y, cv=5)\n",
    "print(scores)\n",
    "print(\"Accuracy: %0.2f%% (+/- %0.2f%%)\" % (100*scores.mean(), 100*scores.std()*2))"
   ]
  },
  {
   "cell_type": "code",
   "execution_count": null,
   "metadata": {},
   "outputs": [],
   "source": [
    "deep_model = Sequential()\n",
    "deep_model.add(Dense(64, input_shape=(X_train.shape[1],), activation='tanh'))\n",
    "deep_model.add(Dense(16, activation='tanh'))\n",
    "deep_model.add(Dense(1, activation='sigmoid'))\n",
    "\n",
    "deep_model.compile(Adam(lr=0.01), 'binary_crossentropy', metrics=['accuracy'])\n",
    "\n",
    "deep_history = deep_model.fit(X_train, y_train, verbose=0, epochs=30)\n",
    "plot_loss_accuracy(deep_history)"
   ]
  },
  {
   "cell_type": "code",
   "execution_count": null,
   "metadata": {},
   "outputs": [],
   "source": [
    "plot_compare_histories([lr_history, deep_history], ['Logistic Reg', 'Deep ANN'])"
   ]
  },
  {
   "cell_type": "code",
   "execution_count": null,
   "metadata": {},
   "outputs": [],
   "source": [
    "y_pred = deep_model.predict_classes(X_test, verbose=0)\n",
    "print(classification_report(y_test, y_pred))\n",
    "plot_confusion_matrix(deep_model, X_test, y_test)\n"
   ]
  },
  {
   "cell_type": "code",
   "execution_count": null,
   "metadata": {},
   "outputs": [],
   "source": [
    "def get_model():\n",
    "    return deep_model\n",
    "\n",
    "model = KerasClassifier(build_fn=get_model, epochs=5, verbose=0)\n",
    "scores = cross_val_score(model, X, y, cv=5)\n",
    "print(scores)\n",
    "print(\"Accuracy: %0.2f%% (+/- %0.2f%%)\" % (100*scores.mean(), 100*scores.std()*2))"
   ]
  },
  {
   "cell_type": "code",
   "execution_count": null,
   "metadata": {},
   "outputs": [],
   "source": [
    "deep_model_vis = Sequential()\n",
    "deep_model_vis.add(Dense(64, input_shape=(X_train.shape[1],), activation='tanh'))\n",
    "deep_model_vis.add(Dense(16, activation='tanh'))\n",
    "deep_model_vis.add(Dense(2, activation='tanh'))\n",
    "deep_model_vis.add(Dense(1, activation='sigmoid'))\n",
    "\n",
    "deep_model_vis.compile(Adam(lr=0.01), 'binary_crossentropy', metrics=['accuracy'])\n",
    "\n",
    "history = deep_model_vis.fit(X_train, y_train, verbose=0, epochs=10)\n",
    "plot_loss_accuracy(history)"
   ]
  },
  {
   "cell_type": "code",
   "execution_count": null,
   "metadata": {},
   "outputs": [],
   "source": [
    "# input to 2-D mapping\n",
    "inp1 = deep_model_vis.layers[0].input\n",
    "out1 = deep_model_vis.layers[2].output\n",
    "func1 = K.function([inp1], [out1])\n",
    "\n",
    "# 2-D to score prediction\n",
    "inp2 = deep_model_vis.layers[3].input\n",
    "out2 = deep_model_vis.layers[3].output\n",
    "func2 = K.function([inp2], [out2])\n",
    "\n",
    "features = func1([X_test])[0]\n",
    "plot_decision_boundary(lambda x: func2([x])[0], features, y_test)\n",
    "plt.title('Test Data Separation')"
   ]
  },
  {
   "cell_type": "code",
   "execution_count": null,
   "metadata": {},
   "outputs": [],
   "source": [
    "y_pred = deep_model_vis.predict_classes(X_test, verbose=0)\n",
    "print(classification_report(y_test, y_pred))\n",
    "plot_confusion_matrix(deep_model_vis, X_test, y_test)"
   ]
  },
  {
   "cell_type": "code",
   "execution_count": null,
   "metadata": {},
   "outputs": [],
   "source": [
    "deep_model_vis = Sequential()\n",
    "deep_model_vis.add(Dense(64, input_shape=(X_train.shape[1],), activation='tanh'))\n",
    "deep_model_vis.add(Dense(2, activation='tanh'))\n",
    "deep_model_vis.add(Dense(8, activation='tanh'))\n",
    "deep_model_vis.add(Dense(16, activation='tanh'))\n",
    "deep_model_vis.add(Dense(1, activation='sigmoid'))\n",
    "\n",
    "deep_model_vis.compile(Adam(lr=0.005), 'binary_crossentropy', metrics=['accuracy'])\n",
    "\n",
    "history = deep_model_vis.fit(X_train, y_train, verbose=0, epochs=5)\n",
    "plot_loss_accuracy(history)\n",
    "\n",
    "# input to 2-D mapping\n",
    "inp1 = deep_model_vis.layers[0].input\n",
    "out1 = deep_model_vis.layers[1].output\n",
    "func1 = K.function([inp1], [out1])\n",
    "\n",
    "# 2-D to score prediction\n",
    "inp2 = deep_model_vis.layers[2].input\n",
    "out2 = deep_model_vis.layers[-1].output\n",
    "func2 = K.function([inp2], [out2])\n",
    "\n",
    "features = func1([X_test])[0]\n",
    "plot_decision_boundary(lambda x: func2([x])[0], features, y_test)\n",
    "plt.title('Test Data Separation')"
   ]
  },
  {
   "cell_type": "code",
   "execution_count": null,
   "metadata": {},
   "outputs": [],
   "source": [
    "deeper_model = Sequential()\n",
    "deeper_model.add(Dense(64, input_shape=(X_train.shape[1],), activation='tanh'))\n",
    "deeper_model.add(Dense(64, activation='tanh'))\n",
    "deeper_model.add(Dense(1, activation='sigmoid'))\n",
    "\n",
    "deeper_model.compile(Adam(lr=0.01), 'binary_crossentropy', metrics=['accuracy'])\n",
    "\n",
    "deeper_history = deeper_model.fit(X_train, y_train, verbose=1, epochs=10)\n",
    "plot_loss_accuracy(deeper_history)"
   ]
  },
  {
   "cell_type": "code",
   "execution_count": null,
   "metadata": {},
   "outputs": [],
   "source": [
    "y_pred = deep_model.predict_classes(X_test, verbose=0)\n",
    "print(classification_report(y_test, y_pred))\n",
    "plot_confusion_matrix(deep_model, X_test, y_test)"
   ]
  },
  {
   "cell_type": "code",
   "execution_count": null,
   "metadata": {},
   "outputs": [],
   "source": []
  }
 ],
 "metadata": {
  "kernelspec": {
   "display_name": "Python 3",
   "language": "python",
   "name": "python3"
  },
  "language_info": {
   "codemirror_mode": {
    "name": "ipython",
    "version": 3
   },
   "file_extension": ".py",
   "mimetype": "text/x-python",
   "name": "python",
   "nbconvert_exporter": "python",
   "pygments_lexer": "ipython3",
   "version": "3.6.5"
  }
 },
 "nbformat": 4,
 "nbformat_minor": 2
}
