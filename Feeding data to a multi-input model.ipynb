{
 "cells": [
  {
   "cell_type": "code",
   "execution_count": 2,
   "metadata": {},
   "outputs": [
    {
     "name": "stderr",
     "output_type": "stream",
     "text": [
      "Using TensorFlow backend.\n"
     ]
    }
   ],
   "source": [
    "from keras.models import Model\n",
    "from keras import layers\n",
    "from keras import Input\n",
    "import numpy as np"
   ]
  },
  {
   "cell_type": "code",
   "execution_count": 3,
   "metadata": {},
   "outputs": [],
   "source": [
    "text_vocabulary_size = 10000\n",
    "question_vocabulary_size = 10000\n",
    "answer_vocabulary_size = 500\n",
    "num_samples = 1000\n",
    "max_length = 100"
   ]
  },
  {
   "cell_type": "code",
   "execution_count": 4,
   "metadata": {},
   "outputs": [],
   "source": [
    "text_input = Input(shape=(None,), dtype='int32', name='text')          \n",
    "embedded_text = layers.Embedding(64, text_vocabulary_size)(text_input)                                \n",
    "encoded_text = layers.LSTM(32)(embedded_text)                            \n",
    "question_input = Input(shape=(None,), dtype='int32', name='question')                                  \n",
    "embedded_question = layers.Embedding( 32, question_vocabulary_size)(question_input)\n",
    "encoded_question = layers.LSTM(16)(embedded_question)\n",
    "concatenated = layers.concatenate([encoded_text, encoded_question],  axis=-1)\n",
    "answer = layers.Dense(answer_vocabulary_size,activation='softmax')(concatenated)   \n"
   ]
  },
  {
   "cell_type": "code",
   "execution_count": 5,
   "metadata": {},
   "outputs": [
    {
     "name": "stdout",
     "output_type": "stream",
     "text": [
      "__________________________________________________________________________________________________\n",
      "Layer (type)                    Output Shape         Param #     Connected to                     \n",
      "==================================================================================================\n",
      "text (InputLayer)               (None, None)         0                                            \n",
      "__________________________________________________________________________________________________\n",
      "question (InputLayer)           (None, None)         0                                            \n",
      "__________________________________________________________________________________________________\n",
      "embedding_1 (Embedding)         (None, None, 10000)  640000      text[0][0]                       \n",
      "__________________________________________________________________________________________________\n",
      "embedding_2 (Embedding)         (None, None, 10000)  320000      question[0][0]                   \n",
      "__________________________________________________________________________________________________\n",
      "lstm_1 (LSTM)                   (None, 32)           1284224     embedding_1[0][0]                \n",
      "__________________________________________________________________________________________________\n",
      "lstm_2 (LSTM)                   (None, 16)           641088      embedding_2[0][0]                \n",
      "__________________________________________________________________________________________________\n",
      "concatenate_1 (Concatenate)     (None, 48)           0           lstm_1[0][0]                     \n",
      "                                                                 lstm_2[0][0]                     \n",
      "__________________________________________________________________________________________________\n",
      "dense_1 (Dense)                 (None, 500)          24500       concatenate_1[0][0]              \n",
      "==================================================================================================\n",
      "Total params: 2,909,812\n",
      "Trainable params: 2,909,812\n",
      "Non-trainable params: 0\n",
      "__________________________________________________________________________________________________\n"
     ]
    }
   ],
   "source": [
    "\n",
    "model = Model([text_input, question_input], answer)                      \n",
    "model.compile(optimizer='rmsprop',loss='categorical_crossentropy', metrics=['acc'])\n",
    "model.summary()"
   ]
  },
  {
   "cell_type": "code",
   "execution_count": 7,
   "metadata": {},
   "outputs": [],
   "source": [
    "\n",
    "text = np.random.randint(1, text_vocabulary_size,size=(num_samples, max_length))                 \n",
    "question = np.random.randint(1, question_vocabulary_size,size=(num_samples, max_length))\n",
    "answers = np.random.randint(0, 1, size=(num_samples, answer_vocabulary_size))    \n",
    "\n",
    "model.fit([text, question], answers, epochs=10, batch_size=32, verbose=1)      \n",
    "\n"
   ]
  },
  {
   "cell_type": "code",
   "execution_count": 8,
   "metadata": {},
   "outputs": [
    {
     "name": "stdout",
     "output_type": "stream",
     "text": [
      "Epoch 1/10\n",
      "1000/1000 [==============================] - 37s 37ms/step - loss: 0.0000e+00 - acc: 0.6580\n",
      "Epoch 2/10\n",
      "1000/1000 [==============================] - 35s 35ms/step - loss: 0.0000e+00 - acc: 0.6580\n",
      "Epoch 3/10\n",
      "1000/1000 [==============================] - 34s 34ms/step - loss: 0.0000e+00 - acc: 0.6580\n",
      "Epoch 4/10\n",
      "1000/1000 [==============================] - 35s 35ms/step - loss: 0.0000e+00 - acc: 0.6580\n",
      "Epoch 5/10\n",
      "1000/1000 [==============================] - 35s 35ms/step - loss: 0.0000e+00 - acc: 0.6580\n",
      "Epoch 6/10\n",
      "1000/1000 [==============================] - 36s 36ms/step - loss: 0.0000e+00 - acc: 0.6580\n",
      "Epoch 7/10\n",
      "1000/1000 [==============================] - 35s 35ms/step - loss: 0.0000e+00 - acc: 0.6580\n",
      "Epoch 8/10\n",
      "1000/1000 [==============================] - 35s 35ms/step - loss: 0.0000e+00 - acc: 0.6580\n",
      "Epoch 9/10\n",
      "1000/1000 [==============================] - 35s 35ms/step - loss: 0.0000e+00 - acc: 0.6580\n",
      "Epoch 10/10\n",
      "1000/1000 [==============================] - 35s 35ms/step - loss: 0.0000e+00 - acc: 0.6580\n"
     ]
    },
    {
     "data": {
      "text/plain": [
       "<keras.callbacks.History at 0x7fca85d3e048>"
      ]
     },
     "execution_count": 8,
     "metadata": {},
     "output_type": "execute_result"
    }
   ],
   "source": [
    "model.fit({'text': text, 'question': question}, answers,  epochs=10,\n",
    "          verbose=1,batch_size=32)"
   ]
  },
  {
   "cell_type": "code",
   "execution_count": null,
   "metadata": {},
   "outputs": [],
   "source": []
  }
 ],
 "metadata": {
  "kernelspec": {
   "display_name": "Python 3",
   "language": "python",
   "name": "python3"
  },
  "language_info": {
   "codemirror_mode": {
    "name": "ipython",
    "version": 3
   },
   "file_extension": ".py",
   "mimetype": "text/x-python",
   "name": "python",
   "nbconvert_exporter": "python",
   "pygments_lexer": "ipython3",
   "version": "3.6.5"
  }
 },
 "nbformat": 4,
 "nbformat_minor": 2
}
