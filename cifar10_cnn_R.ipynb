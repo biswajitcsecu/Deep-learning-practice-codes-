{
 "cells": [
  {
   "cell_type": "code",
   "execution_count": 1,
   "metadata": {
    "extensions": {
     "jupyter_dashboards": {
      "version": 1,
      "views": {
       "grid_default": {},
       "report_default": {}
      }
     }
    }
   },
   "outputs": [],
   "source": [
    "library(keras)"
   ]
  },
  {
   "cell_type": "code",
   "execution_count": 2,
   "metadata": {
    "extensions": {
     "jupyter_dashboards": {
      "version": 1,
      "views": {
       "grid_default": {},
       "report_default": {}
      }
     }
    }
   },
   "outputs": [],
   "source": [
    "# Parameters --------------------------------------------------------------\n",
    "\n",
    "batch_size <- 32\n",
    "epochs <- 1\n",
    "data_augmentation <- TRUE"
   ]
  },
  {
   "cell_type": "code",
   "execution_count": 3,
   "metadata": {
    "extensions": {
     "jupyter_dashboards": {
      "version": 1,
      "views": {
       "grid_default": {},
       "report_default": {}
      }
     }
    }
   },
   "outputs": [],
   "source": [
    "cifar10 <- dataset_cifar10()\n",
    "\n",
    "# Feature scale RGB values in test and train inputs  \n",
    "x_train <- cifar10$train$x/255\n",
    "x_test <- cifar10$test$x/255\n",
    "y_train <- to_categorical(cifar10$train$y, num_classes = 10)\n",
    "y_test <- to_categorical(cifar10$test$y, num_classes = 10)\n"
   ]
  },
  {
   "cell_type": "code",
   "execution_count": 4,
   "metadata": {
    "extensions": {
     "jupyter_dashboards": {
      "version": 1,
      "views": {
       "grid_default": {},
       "report_default": {}
      }
     }
    }
   },
   "outputs": [
    {
     "name": "stderr",
     "output_type": "stream",
     "text": [
      "simpleWarning in if (class(res$value) == \"help_files_with_topic\") {: the condition has length > 1 and only the first element will be used\n",
      "\n",
      "\n"
     ]
    }
   ],
   "source": [
    "# Initialize sequential model\n",
    "model <- keras_model_sequential()\n",
    "\n",
    "model %>%\n",
    " \n",
    "  # Start with hidden 2D convolutional layer being fed 32x32 pixel images\n",
    "  layer_conv_2d(\n",
    "    filter = 32, kernel_size = c(3,3), padding = \"same\", \n",
    "    input_shape = c(32, 32, 3)\n",
    "  ) %>%\n",
    "  layer_activation(\"relu\") %>%\n",
    "\n",
    "  # Second hidden layer\n",
    "  layer_conv_2d(filter = 32, kernel_size = c(3,3)) %>%\n",
    "  layer_activation(\"relu\") %>%\n",
    "\n",
    "  # Use max pooling\n",
    "  layer_max_pooling_2d(pool_size = c(2,2)) %>%\n",
    "  layer_dropout(0.25) %>%\n",
    "  \n",
    "  # 2 additional hidden 2D convolutional layers\n",
    "  layer_conv_2d(filter = 32, kernel_size = c(3,3), padding = \"same\") %>%\n",
    "  layer_activation(\"relu\") %>%\n",
    "  layer_conv_2d(filter = 32, kernel_size = c(3,3)) %>%\n",
    "  layer_activation(\"relu\") %>%\n",
    "\n",
    "  # Use max pooling once more\n",
    "  layer_max_pooling_2d(pool_size = c(2,2)) %>%\n",
    "  layer_dropout(0.25) %>%\n",
    "  \n",
    "  # Flatten max filtered output into feature vector \n",
    "  # and feed into dense layer\n",
    "  layer_flatten() %>%\n",
    "  layer_dense(512) %>%\n",
    "  layer_activation(\"relu\") %>%\n",
    "  layer_dropout(0.5) %>%\n",
    "\n",
    "  # Outputs from dense layer are projected onto 10 unit output layer\n",
    "  layer_dense(10) %>%\n",
    "  layer_activation(\"softmax\")\n",
    "\n",
    "opt <- optimizer_rmsprop(lr = 0.0001, decay = 1e-6)\n"
   ]
  },
  {
   "cell_type": "code",
   "execution_count": 5,
   "metadata": {
    "extensions": {
     "jupyter_dashboards": {
      "version": 1,
      "views": {
       "grid_default": {},
       "report_default": {}
      }
     }
    }
   },
   "outputs": [
    {
     "name": "stderr",
     "output_type": "stream",
     "text": [
      "simpleWarning in if (class(res$value) == \"help_files_with_topic\") {: the condition has length > 1 and only the first element will be used\n",
      "\n",
      "\n"
     ]
    }
   ],
   "source": [
    "model %>% compile(\n",
    "  loss = \"categorical_crossentropy\",\n",
    "  optimizer = opt,\n",
    "  metrics = \"accuracy\"\n",
    ")"
   ]
  },
  {
   "cell_type": "code",
   "execution_count": 6,
   "metadata": {
    "extensions": {
     "jupyter_dashboards": {
      "version": 1,
      "views": {
       "grid_default": {},
       "report_default": {}
      }
     }
    }
   },
   "outputs": [],
   "source": [
    "# Training ----------------------------------------------------------------\n",
    "\n",
    "if(!data_augmentation){\n",
    "  \n",
    " history<- model %>% fit(\n",
    "    x_train, y_train,\n",
    "    batch_size = batch_size,\n",
    "    epochs = epochs,\n",
    "    validation_data = list(x_test, y_test),\n",
    "    shuffle = TRUE\n",
    "  )\n",
    "  \n",
    "} else {\n",
    "  \n",
    "  datagen <- image_data_generator(\n",
    "    featurewise_center = TRUE,\n",
    "    featurewise_std_normalization = TRUE,\n",
    "    rotation_range = 20,\n",
    "    width_shift_range = 0.2,\n",
    "    height_shift_range = 0.2,\n",
    "    horizontal_flip = TRUE )\n",
    "    \n",
    "    datagen %>% fit_image_data_generator(x_train)  \n",
    "   history<- model %>% fit_generator(\n",
    "    flow_images_from_data(x_train, y_train, datagen, batch_size = batch_size),\n",
    "    steps_per_epoch = as.integer(50000/batch_size), \n",
    "    epochs = epochs, \n",
    "    validation_data = list(x_test, y_test)\n",
    "  )  \n",
    "}"
   ]
  },
  {
   "cell_type": "code",
   "execution_count": 7,
   "metadata": {
    "extensions": {
     "jupyter_dashboards": {
      "version": 1,
      "views": {
       "grid_default": {},
       "report_default": {}
      }
     }
    }
   },
   "outputs": [
    {
     "name": "stderr",
     "output_type": "stream",
     "text": [
      "Using run directory runs/2018-07-24T13-32-59Z\n"
     ]
    },
    {
     "name": "stdout",
     "output_type": "stream",
     "text": [
      "\n",
      "> library(keras)\n",
      "\n",
      "> batch_size <- 32\n",
      "\n",
      "> epochs <- 2\n",
      "\n",
      "> data_augmentation <- TRUE\n",
      "\n",
      "> cifar10 <- dataset_cifar10()\n",
      "\n",
      "> x_train <- cifar10$train$x/255\n",
      "\n",
      "> x_test <- cifar10$test$x/255\n",
      "\n",
      "> y_train <- to_categorical(cifar10$train$y, num_classes = 10)\n",
      "\n",
      "> y_test <- to_categorical(cifar10$test$y, num_classes = 10)\n",
      "\n",
      "> model <- keras_model_sequential()\n",
      "\n",
      "> model %>% layer_conv_2d(filter = 32, kernel_size = c(3, \n",
      "+     3), padding = \"same\", input_shape = c(32, 32, 3)) %>% layer_activation(\"relu\") %>% \n",
      "+ .... [TRUNCATED] \n",
      "\n",
      "> opt <- optimizer_rmsprop(lr = 1e-04, decay = 1e-06)\n",
      "\n",
      "> model %>% compile(loss = \"categorical_crossentropy\", \n",
      "+     optimizer = opt, metrics = \"accuracy\")\n",
      "\n",
      "> if (!data_augmentation) {\n",
      "+     model %>% fit(x_train, y_train, batch_size = batch_size, \n",
      "+         epochs = epochs, validation_data = list(x_test,  .... [TRUNCATED] \n"
     ]
    },
    {
     "name": "stderr",
     "output_type": "stream",
     "text": [
      "\n",
      "Run completed: runs/2018-07-24T13-32-59Z\n",
      "\n",
      "simpleWarning in if (class(res$value) == \"help_files_with_topic\") {: the condition has length > 1 and only the first element will be used\n",
      "\n",
      "\n"
     ]
    }
   ],
   "source": [
    "library(tfruns)\n",
    "training_run(\"cifar10_cnn_R.R\")"
   ]
  },
  {
   "cell_type": "code",
   "execution_count": 8,
   "metadata": {
    "extensions": {
     "jupyter_dashboards": {
      "version": 1,
      "views": {
       "grid_default": {},
       "report_default": {}
      }
     }
    }
   },
   "outputs": [
    {
     "name": "stderr",
     "output_type": "stream",
     "text": [
      "starting httpd help server ... done\n",
      "simpleWarning in if (class(res$value) == \"help_files_with_topic\") {: the condition has length > 1 and only the first element will be used\n",
      "\n",
      "\n"
     ]
    }
   ],
   "source": [
    "latest_run()\n",
    "view_run(\"runs/2018-07-24T13-32-59Z\")\n",
    "plot(history)"
   ]
  },
  {
   "cell_type": "code",
   "execution_count": 9,
   "metadata": {
    "extensions": {
     "jupyter_dashboards": {
      "version": 1,
      "views": {
       "grid_default": {},
       "report_default": {}
      }
     }
    }
   },
   "outputs": [],
   "source": [
    "#model %>% evaluate(x_test, y_test)\n",
    "#model %>% predict_classes(x_test)"
   ]
  },
  {
   "cell_type": "code",
   "execution_count": 9,
   "metadata": {
    "extensions": {
     "jupyter_dashboards": {
      "version": 1,
      "views": {
       "grid_default": {},
       "report_default": {}
      }
     }
    }
   },
   "outputs": [],
   "source": [
    "plot(history)"
   ]
  },
  {
   "cell_type": "code",
   "execution_count": null,
   "metadata": {
    "extensions": {
     "jupyter_dashboards": {
      "version": 1,
      "views": {
       "grid_default": {},
       "report_default": {}
      }
     }
    }
   },
   "outputs": [],
   "source": []
  }
 ],
 "metadata": {
  "extensions": {
   "jupyter_dashboards": {
    "activeView": "grid_default",
    "version": 1,
    "views": {
     "grid_default": {
      "cellMargin": 10,
      "defaultCellHeight": 20,
      "maxColumns": 12,
      "name": "grid",
      "type": "grid"
     },
     "report_default": {
      "name": "report",
      "type": "report"
     }
    }
   }
  },
  "kernelspec": {
   "display_name": "R 3.4.4 (Juniper)",
   "language": "R",
   "name": "juniper_r3.4.4"
  },
  "language_info": {
   "codemirror_mode": "r",
   "file_extension": ".R",
   "mimetype": "text/x-r-source",
   "name": "R",
   "pygments_lexer": "r",
   "version": "3.4.4"
  }
 },
 "nbformat": 4,
 "nbformat_minor": 2
}
