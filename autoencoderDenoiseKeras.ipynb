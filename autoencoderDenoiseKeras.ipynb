{
 "cells": [
  {
   "cell_type": "code",
   "execution_count": 50,
   "metadata": {},
   "outputs": [
    {
     "data": {
      "text/plain": [
       "'2.2.4'"
      ]
     },
     "execution_count": 50,
     "metadata": {},
     "output_type": "execute_result"
    }
   ],
   "source": [
    "import matplotlib.pyplot as plt\n",
    "%matplotlib inline\n",
    "import keras\n",
    "from keras.models import Sequential\n",
    "from keras.layers import Dense, Flatten, Convolution2D, MaxPooling2D, Dropout\n",
    "from keras.optimizers import RMSprop\n",
    "from keras.datasets import mnist\n",
    "from keras.utils import np_utils\n",
    "from keras import initializers\n",
    "from keras import backend as K\n",
    "from keras.models import Model\n",
    "from keras.layers import Dense, Input\n",
    "from keras.datasets import mnist\n",
    "import numpy as np\n",
    "keras.__version__"
   ]
  },
  {
   "cell_type": "code",
   "execution_count": 41,
   "metadata": {},
   "outputs": [],
   "source": [
    "# Hyper parameters\n",
    "batch_size = 128\n",
    "nb_epoch = 100\n",
    "\n",
    "# Parameters for MNIST dataset\n",
    "img_rows, img_cols = 28, 28\n",
    "\n",
    "# Parameters for denoising autoencoder\n",
    "nb_visible = img_rows * img_cols\n",
    "nb_hidden = 500\n",
    "corruption_level = 0.3"
   ]
  },
  {
   "cell_type": "code",
   "execution_count": 47,
   "metadata": {},
   "outputs": [
    {
     "name": "stdout",
     "output_type": "stream",
     "text": [
      "(60000, 784)\n",
      "(10000, 784)\n"
     ]
    }
   ],
   "source": [
    "# Load MNIST Dataset\n",
    "(x_train, _), (x_test, _) = mnist.load_data()\n",
    "x_train = x_train.astype('float32') / 255.\n",
    "x_test = x_test.astype('float32') / 255.\n",
    "x_train = x_train.reshape((len(x_train), np.prod(x_train.shape[1:])))\n",
    "x_test = x_test.reshape((len(x_test), np.prod(x_test.shape[1:])))\n",
    "print(x_train.shape)\n",
    "print(x_test.shape)"
   ]
  },
  {
   "cell_type": "code",
   "execution_count": 43,
   "metadata": {},
   "outputs": [
    {
     "name": "stdout",
     "output_type": "stream",
     "text": [
      "(60000, 784)\n",
      "(10000, 784)\n"
     ]
    }
   ],
   "source": [
    "x_train_noisy = x_train + corruption_level * np.random.normal(loc=0.0, scale=1.0, size=x_train.shape)\n",
    "x_test_noisy = x_test + corruption_level * np.random.normal(loc=0.0, scale=1.0, size=x_test.shape)\n",
    "x_train_noisy = np.clip(x_train_noisy, 0., 1.)\n",
    "x_test_noisy = np.clip(x_test_noisy, 0., 1.)\n",
    "print(x_train_noisy.shape)\n",
    "print(x_test_noisy.shape)"
   ]
  },
  {
   "cell_type": "code",
   "execution_count": 44,
   "metadata": {},
   "outputs": [
    {
     "name": "stdout",
     "output_type": "stream",
     "text": [
      "_________________________________________________________________\n",
      "Layer (type)                 Output Shape              Param #   \n",
      "=================================================================\n",
      "input_1 (InputLayer)         (None, 784)               0         \n",
      "_________________________________________________________________\n",
      "dense_1 (Dense)              (None, 500)               392500    \n",
      "_________________________________________________________________\n",
      "dense_2 (Dense)              (None, 784)               392784    \n",
      "=================================================================\n",
      "Total params: 785,284\n",
      "Trainable params: 785,284\n",
      "Non-trainable params: 0\n",
      "_________________________________________________________________\n"
     ]
    },
    {
     "name": "stderr",
     "output_type": "stream",
     "text": [
      "/home/nebex/usys/anaconda3/lib/python3.6/site-packages/ipykernel_launcher.py:8: UserWarning: Update your `Model` call to the Keras 2 API: `Model(inputs=Tensor(\"in..., outputs=Tensor(\"de...)`\n",
      "  \n"
     ]
    }
   ],
   "source": [
    "# Build autoencoder model\n",
    "input_img = Input(shape=(nb_visible,))\n",
    "encoded = Dense(nb_hidden, activation='relu')(input_img)\n",
    "decoded = Dense(nb_visible, activation='sigmoid')(encoded)\n",
    "\n",
    "autoencoder = Model(input=input_img, output=decoded)\n",
    "autoencoder.compile(optimizer='adadelta', loss='binary_crossentropy')\n",
    "autoencoder.summary()"
   ]
  },
  {
   "cell_type": "code",
   "execution_count": 45,
   "metadata": {},
   "outputs": [
    {
     "name": "stderr",
     "output_type": "stream",
     "text": [
      "/home/nebex/usys/anaconda3/lib/python3.6/site-packages/ipykernel_launcher.py:3: UserWarning: The `nb_epoch` argument in `fit` has been renamed `epochs`.\n",
      "  This is separate from the ipykernel package so we can avoid doing imports until\n"
     ]
    },
    {
     "name": "stdout",
     "output_type": "stream",
     "text": [
      "Train on 60000 samples, validate on 10000 samples\n",
      "Epoch 1/100\n",
      "60000/60000 [==============================] - 11s 192us/step - loss: 0.2722 - val_loss: 0.2238\n",
      "Epoch 2/100\n",
      "60000/60000 [==============================] - 6s 93us/step - loss: 0.2026 - val_loss: 0.1836\n",
      "Epoch 3/100\n",
      "60000/60000 [==============================] - 6s 93us/step - loss: 0.1734 - val_loss: 0.1623\n",
      "Epoch 4/100\n",
      "60000/60000 [==============================] - 6s 93us/step - loss: 0.1562 - val_loss: 0.1482\n",
      "Epoch 5/100\n",
      "60000/60000 [==============================] - 6s 93us/step - loss: 0.1443 - val_loss: 0.1380\n",
      "Epoch 6/100\n",
      "60000/60000 [==============================] - 6s 95us/step - loss: 0.1354 - val_loss: 0.1302\n",
      "Epoch 7/100\n",
      "60000/60000 [==============================] - 6s 93us/step - loss: 0.1286 - val_loss: 0.1242\n",
      "Epoch 8/100\n",
      "60000/60000 [==============================] - 6s 93us/step - loss: 0.1233 - val_loss: 0.1195\n",
      "Epoch 9/100\n",
      "60000/60000 [==============================] - 5s 91us/step - loss: 0.1190 - val_loss: 0.1157\n",
      "Epoch 10/100\n",
      "60000/60000 [==============================] - 6s 92us/step - loss: 0.1155 - val_loss: 0.1125\n",
      "Epoch 11/100\n",
      "60000/60000 [==============================] - 5s 91us/step - loss: 0.1126 - val_loss: 0.1099\n",
      "Epoch 12/100\n",
      "60000/60000 [==============================] - 5s 91us/step - loss: 0.1102 - val_loss: 0.1076\n",
      "Epoch 13/100\n",
      "60000/60000 [==============================] - 5s 92us/step - loss: 0.1081 - val_loss: 0.1058\n",
      "Epoch 14/100\n",
      "60000/60000 [==============================] - 6s 92us/step - loss: 0.1063 - val_loss: 0.1041\n",
      "Epoch 15/100\n",
      "60000/60000 [==============================] - 5s 91us/step - loss: 0.1047 - val_loss: 0.1027\n",
      "Epoch 16/100\n",
      "60000/60000 [==============================] - 6s 92us/step - loss: 0.1033 - val_loss: 0.1014\n",
      "Epoch 17/100\n",
      "60000/60000 [==============================] - 6s 94us/step - loss: 0.1021 - val_loss: 0.1003\n",
      "Epoch 18/100\n",
      "60000/60000 [==============================] - 6s 97us/step - loss: 0.1010 - val_loss: 0.0993\n",
      "Epoch 19/100\n",
      "60000/60000 [==============================] - 6s 92us/step - loss: 0.1000 - val_loss: 0.0984\n",
      "Epoch 20/100\n",
      "60000/60000 [==============================] - 6s 92us/step - loss: 0.0991 - val_loss: 0.0976\n",
      "Epoch 21/100\n",
      "60000/60000 [==============================] - 6s 93us/step - loss: 0.0983 - val_loss: 0.0968\n",
      "Epoch 22/100\n",
      "60000/60000 [==============================] - 6s 93us/step - loss: 0.0976 - val_loss: 0.0962\n",
      "Epoch 23/100\n",
      "60000/60000 [==============================] - 6s 93us/step - loss: 0.0969 - val_loss: 0.0955\n",
      "Epoch 24/100\n",
      "60000/60000 [==============================] - 6s 93us/step - loss: 0.0963 - val_loss: 0.0950\n",
      "Epoch 25/100\n",
      "60000/60000 [==============================] - 6s 93us/step - loss: 0.0957 - val_loss: 0.0944\n",
      "Epoch 26/100\n",
      "60000/60000 [==============================] - 6s 93us/step - loss: 0.0951 - val_loss: 0.0939\n",
      "Epoch 27/100\n",
      "60000/60000 [==============================] - 6s 94us/step - loss: 0.0946 - val_loss: 0.0935\n",
      "Epoch 28/100\n",
      "60000/60000 [==============================] - 6s 96us/step - loss: 0.0942 - val_loss: 0.0931\n",
      "Epoch 29/100\n",
      "60000/60000 [==============================] - 6s 96us/step - loss: 0.0937 - val_loss: 0.0927\n",
      "Epoch 30/100\n",
      "60000/60000 [==============================] - 6s 93us/step - loss: 0.0933 - val_loss: 0.0923\n",
      "Epoch 31/100\n",
      "60000/60000 [==============================] - 6s 93us/step - loss: 0.0929 - val_loss: 0.0919\n",
      "Epoch 32/100\n",
      "60000/60000 [==============================] - 6s 96us/step - loss: 0.0926 - val_loss: 0.0916\n",
      "Epoch 33/100\n",
      "60000/60000 [==============================] - 6s 93us/step - loss: 0.0922 - val_loss: 0.0913\n",
      "Epoch 34/100\n",
      "60000/60000 [==============================] - 6s 92us/step - loss: 0.0919 - val_loss: 0.0910\n",
      "Epoch 35/100\n",
      "60000/60000 [==============================] - 6s 93us/step - loss: 0.0916 - val_loss: 0.0907\n",
      "Epoch 36/100\n",
      "60000/60000 [==============================] - 6s 93us/step - loss: 0.0913 - val_loss: 0.0905\n",
      "Epoch 37/100\n",
      "60000/60000 [==============================] - 6s 93us/step - loss: 0.0910 - val_loss: 0.0902\n",
      "Epoch 38/100\n",
      "60000/60000 [==============================] - 6s 94us/step - loss: 0.0907 - val_loss: 0.0899\n",
      "Epoch 39/100\n",
      "60000/60000 [==============================] - 6s 93us/step - loss: 0.0905 - val_loss: 0.0897\n",
      "Epoch 40/100\n",
      "60000/60000 [==============================] - 6s 94us/step - loss: 0.0902 - val_loss: 0.0895\n",
      "Epoch 41/100\n",
      "60000/60000 [==============================] - 6s 93us/step - loss: 0.0900 - val_loss: 0.0893\n",
      "Epoch 42/100\n",
      "60000/60000 [==============================] - 6s 92us/step - loss: 0.0898 - val_loss: 0.0891\n",
      "Epoch 43/100\n",
      "60000/60000 [==============================] - 5s 92us/step - loss: 0.0896 - val_loss: 0.0889\n",
      "Epoch 44/100\n",
      "60000/60000 [==============================] - 5s 91us/step - loss: 0.0894 - val_loss: 0.0887\n",
      "Epoch 45/100\n",
      "60000/60000 [==============================] - 6s 92us/step - loss: 0.0892 - val_loss: 0.0885\n",
      "Epoch 46/100\n",
      "60000/60000 [==============================] - 6s 92us/step - loss: 0.0890 - val_loss: 0.0884\n",
      "Epoch 47/100\n",
      "60000/60000 [==============================] - 6s 92us/step - loss: 0.0888 - val_loss: 0.0882\n",
      "Epoch 48/100\n",
      "60000/60000 [==============================] - 6s 92us/step - loss: 0.0886 - val_loss: 0.0880\n",
      "Epoch 49/100\n",
      "60000/60000 [==============================] - 6s 94us/step - loss: 0.0885 - val_loss: 0.0879\n",
      "Epoch 50/100\n",
      "60000/60000 [==============================] - 6s 93us/step - loss: 0.0883 - val_loss: 0.0877\n",
      "Epoch 51/100\n",
      "60000/60000 [==============================] - 6s 93us/step - loss: 0.0881 - val_loss: 0.0876\n",
      "Epoch 52/100\n",
      "60000/60000 [==============================] - 6s 92us/step - loss: 0.0880 - val_loss: 0.0875\n",
      "Epoch 53/100\n",
      "60000/60000 [==============================] - 6s 93us/step - loss: 0.0878 - val_loss: 0.0873\n",
      "Epoch 54/100\n",
      "60000/60000 [==============================] - 6s 92us/step - loss: 0.0877 - val_loss: 0.0872\n",
      "Epoch 55/100\n",
      "60000/60000 [==============================] - 6s 92us/step - loss: 0.0876 - val_loss: 0.0871\n",
      "Epoch 56/100\n",
      "60000/60000 [==============================] - 5s 91us/step - loss: 0.0874 - val_loss: 0.0870\n",
      "Epoch 57/100\n",
      "60000/60000 [==============================] - 6s 93us/step - loss: 0.0873 - val_loss: 0.0868\n",
      "Epoch 58/100\n",
      "60000/60000 [==============================] - 6s 93us/step - loss: 0.0872 - val_loss: 0.0867\n",
      "Epoch 59/100\n",
      "60000/60000 [==============================] - 5s 91us/step - loss: 0.0871 - val_loss: 0.0866\n",
      "Epoch 60/100\n",
      "60000/60000 [==============================] - 6s 95us/step - loss: 0.0869 - val_loss: 0.0865\n",
      "Epoch 61/100\n",
      "60000/60000 [==============================] - 6s 97us/step - loss: 0.0868 - val_loss: 0.0864\n",
      "Epoch 62/100\n",
      "60000/60000 [==============================] - 6s 95us/step - loss: 0.0867 - val_loss: 0.0863\n",
      "Epoch 63/100\n",
      "60000/60000 [==============================] - 6s 93us/step - loss: 0.0866 - val_loss: 0.0862\n",
      "Epoch 64/100\n",
      "60000/60000 [==============================] - 6s 92us/step - loss: 0.0865 - val_loss: 0.0861\n",
      "Epoch 65/100\n",
      "60000/60000 [==============================] - 5s 91us/step - loss: 0.0864 - val_loss: 0.0860\n",
      "Epoch 66/100\n",
      "60000/60000 [==============================] - 5s 91us/step - loss: 0.0863 - val_loss: 0.0860\n",
      "Epoch 67/100\n",
      "60000/60000 [==============================] - 6s 92us/step - loss: 0.0862 - val_loss: 0.0859\n",
      "Epoch 68/100\n",
      "60000/60000 [==============================] - 6s 92us/step - loss: 0.0861 - val_loss: 0.0858\n",
      "Epoch 69/100\n",
      "60000/60000 [==============================] - 5s 91us/step - loss: 0.0860 - val_loss: 0.0857\n",
      "Epoch 70/100\n",
      "60000/60000 [==============================] - 5s 92us/step - loss: 0.0859 - val_loss: 0.0856\n",
      "Epoch 71/100\n",
      "60000/60000 [==============================] - 6s 93us/step - loss: 0.0858 - val_loss: 0.0856\n",
      "Epoch 72/100\n",
      "60000/60000 [==============================] - 6s 94us/step - loss: 0.0857 - val_loss: 0.0855\n",
      "Epoch 73/100\n",
      "60000/60000 [==============================] - 6s 93us/step - loss: 0.0857 - val_loss: 0.0854\n",
      "Epoch 74/100\n",
      "60000/60000 [==============================] - 6s 93us/step - loss: 0.0856 - val_loss: 0.0853\n",
      "Epoch 75/100\n",
      "60000/60000 [==============================] - 6s 92us/step - loss: 0.0855 - val_loss: 0.0853\n",
      "Epoch 76/100\n",
      "60000/60000 [==============================] - 5s 91us/step - loss: 0.0854 - val_loss: 0.0852\n",
      "Epoch 77/100\n"
     ]
    },
    {
     "name": "stdout",
     "output_type": "stream",
     "text": [
      "60000/60000 [==============================] - 5s 91us/step - loss: 0.0854 - val_loss: 0.0851\n",
      "Epoch 78/100\n",
      "60000/60000 [==============================] - 5s 91us/step - loss: 0.0853 - val_loss: 0.0851\n",
      "Epoch 79/100\n",
      "60000/60000 [==============================] - 5s 91us/step - loss: 0.0852 - val_loss: 0.0850\n",
      "Epoch 80/100\n",
      "60000/60000 [==============================] - 5s 91us/step - loss: 0.0851 - val_loss: 0.0849\n",
      "Epoch 81/100\n",
      "60000/60000 [==============================] - 6s 93us/step - loss: 0.0851 - val_loss: 0.0849\n",
      "Epoch 82/100\n",
      "60000/60000 [==============================] - 6s 94us/step - loss: 0.0850 - val_loss: 0.0848\n",
      "Epoch 83/100\n",
      "60000/60000 [==============================] - 6s 97us/step - loss: 0.0849 - val_loss: 0.0848\n",
      "Epoch 84/100\n",
      "60000/60000 [==============================] - 6s 95us/step - loss: 0.0849 - val_loss: 0.0847\n",
      "Epoch 85/100\n",
      "60000/60000 [==============================] - 6s 92us/step - loss: 0.0848 - val_loss: 0.0846\n",
      "Epoch 86/100\n",
      "60000/60000 [==============================] - 6s 92us/step - loss: 0.0847 - val_loss: 0.0846\n",
      "Epoch 87/100\n",
      "60000/60000 [==============================] - 6s 92us/step - loss: 0.0847 - val_loss: 0.0846\n",
      "Epoch 88/100\n",
      "60000/60000 [==============================] - 6s 92us/step - loss: 0.0846 - val_loss: 0.0845\n",
      "Epoch 89/100\n",
      "60000/60000 [==============================] - 6s 92us/step - loss: 0.0846 - val_loss: 0.0844\n",
      "Epoch 90/100\n",
      "60000/60000 [==============================] - 5s 91us/step - loss: 0.0845 - val_loss: 0.0844\n",
      "Epoch 91/100\n",
      "60000/60000 [==============================] - 5s 91us/step - loss: 0.0845 - val_loss: 0.0843\n",
      "Epoch 92/100\n",
      "60000/60000 [==============================] - 6s 93us/step - loss: 0.0844 - val_loss: 0.0843\n",
      "Epoch 93/100\n",
      "60000/60000 [==============================] - 5s 91us/step - loss: 0.0843 - val_loss: 0.0843\n",
      "Epoch 94/100\n",
      "60000/60000 [==============================] - 6s 93us/step - loss: 0.0843 - val_loss: 0.0842\n",
      "Epoch 95/100\n",
      "60000/60000 [==============================] - 6s 92us/step - loss: 0.0842 - val_loss: 0.0842\n",
      "Epoch 96/100\n",
      "60000/60000 [==============================] - 6s 92us/step - loss: 0.0842 - val_loss: 0.0841\n",
      "Epoch 97/100\n",
      "60000/60000 [==============================] - 6s 92us/step - loss: 0.0841 - val_loss: 0.0841\n",
      "Epoch 98/100\n",
      "60000/60000 [==============================] - 6s 92us/step - loss: 0.0841 - val_loss: 0.0840\n",
      "Epoch 99/100\n",
      "60000/60000 [==============================] - 5s 91us/step - loss: 0.0840 - val_loss: 0.0840\n",
      "Epoch 100/100\n",
      "60000/60000 [==============================] - 6s 94us/step - loss: 0.0840 - val_loss: 0.0840\n"
     ]
    },
    {
     "data": {
      "text/plain": [
       "<keras.callbacks.History at 0x7fb6ad79aa58>"
      ]
     },
     "execution_count": 45,
     "metadata": {},
     "output_type": "execute_result"
    }
   ],
   "source": [
    "autoencoder.fit(x_train_noisy, x_train,\n",
    "                nb_epoch=nb_epoch, batch_size=batch_size, shuffle=True, verbose=1,\n",
    "                validation_data=(x_test_noisy, x_test))"
   ]
  },
  {
   "cell_type": "code",
   "execution_count": 48,
   "metadata": {},
   "outputs": [
    {
     "name": "stdout",
     "output_type": "stream",
     "text": [
      "10000/10000 [==============================] - 0s 25us/step\n",
      "\n",
      "Summary: Loss over the test dataset: 0.08\n"
     ]
    }
   ],
   "source": [
    "# Evaluate\n",
    "evaluation = autoencoder.evaluate(x_test_noisy, x_test, batch_size=batch_size, verbose=1)\n",
    "print('\\nSummary: Loss over the test dataset: %.2f' % (evaluation))"
   ]
  },
  {
   "cell_type": "code",
   "execution_count": 52,
   "metadata": {},
   "outputs": [
    {
     "data": {
      "image/png": "[encoded data removed]",
      "text/plain": [
       "<Figure size 1440x288 with 20 Axes>"
      ]
     },
     "metadata": {
      "needs_background": "light"
     },
     "output_type": "display_data"
    }
   ],
   "source": [
    "# Decode test images \n",
    "decoded_imgs = autoencoder.predict(x_test_noisy)\n",
    "\n",
    "n = 10  \n",
    "plt.figure(figsize=(20, 4))\n",
    "for i in range(n):\n",
    "    # display original\n",
    "    ax = plt.subplot(2, n, i + 1)\n",
    "    plt.imshow(x_test_noisy[i].reshape(28, 28))\n",
    "    plt.gray()\n",
    "    ax.get_xaxis().set_visible(False)\n",
    "    ax.get_yaxis().set_visible(False)\n",
    "\n",
    "    # display reconstruction\n",
    "    ax = plt.subplot(2, n, i + 1 + n)\n",
    "    plt.imshow(decoded_imgs[i].reshape(28, 28))\n",
    "    plt.gray()\n",
    "    ax.get_xaxis().set_visible(False)\n",
    "    ax.get_yaxis().set_visible(False)\n",
    "plt.show()\n"
   ]
  },
  {
   "cell_type": "code",
   "execution_count": null,
   "metadata": {},
   "outputs": [],
   "source": []
  }
 ],
 "metadata": {
  "kernelspec": {
   "display_name": "Python 3",
   "language": "python",
   "name": "python3"
  },
  "language_info": {
   "codemirror_mode": {
    "name": "ipython",
    "version": 3
   },
   "file_extension": ".py",
   "mimetype": "text/x-python",
   "name": "python",
   "nbconvert_exporter": "python",
   "pygments_lexer": "ipython3",
   "version": "3.6.8"
  }
 },
 "nbformat": 4,
 "nbformat_minor": 2
}
