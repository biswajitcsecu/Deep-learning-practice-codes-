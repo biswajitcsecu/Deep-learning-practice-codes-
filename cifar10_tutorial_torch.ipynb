{
 "cells": [
  {
   "cell_type": "code",
   "execution_count": 5,
   "metadata": {},
   "outputs": [],
   "source": [
    "%matplotlib inline\n",
    "from __future__ import print_function\n",
    "\n",
    "import torch\n",
    "import torchvision\n",
    "import torchvision.transforms as transforms\n",
    "from torch.autograd import Variable\n",
    "import torch.nn as nn\n",
    "import torch.optim as optim\n",
    "import torch.nn.functional as F\n",
    "\n",
    "from cogitare.data import DataSet, AsyncDataLoader\n",
    "from cogitare import utils, Model\n",
    "from cogitare.plugins import EarlyStopping\n",
    "from cogitare.metrics.classification import accuracy\n",
    "import cogitare\n",
    "\n",
    "import argparse\n",
    "\n",
    "import matplotlib.pyplot as plt\n",
    "import numpy as np\n"
   ]
  },
  {
   "cell_type": "code",
   "execution_count": 6,
   "metadata": {},
   "outputs": [
    {
     "name": "stderr",
     "output_type": "stream",
     "text": [
      "usage: ipykernel_launcher.py [-h] [--batch-size BATCH_SIZE] [--cuda]\n",
      "                             [--dropout DROPOUT]\n",
      "                             [--learning-rate LEARNING_RATE]\n",
      "                             [--max-epochs MAX_EPOCHS]\n",
      "ipykernel_launcher.py: error: unrecognized arguments: -f /run/user/1000/jupyter/kernel-af4bd7f3-4d12-4e28-896d-982c819e67f8.json\n"
     ]
    }
   ],
   "source": [
    "\n",
    "parser = argparse.ArgumentParser()\n",
    "pa = parser.add_argument  # define a shortcut\n",
    "\n",
    "pa('--batch-size', help='Size of the training batch', type=int, default=64)\n",
    "pa('--cuda', help='enable cuda', action='store_true')\n",
    "pa('--dropout', help='dropout rate in the input data', type=float, default=0.3)\n",
    "pa('--learning-rate', help='learning rate', type=float, default=0.001)\n",
    "pa('--max-epochs', help='limit the number of epochs in training', type=int, default=10)\n",
    "try:\n",
    "    args = parser.parse_args()\n",
    "except:\n",
    "    args = parser.parse_args([])\n",
    "cogitare.utils.set_cuda(args.cuda)\n",
    "CLASSES = ('plane', 'car', 'bird', 'cat', 'deer',\n",
    "           'dog', 'frog', 'horse', 'ship', 'truck')"
   ]
  },
  {
   "cell_type": "code",
   "execution_count": 7,
   "metadata": {},
   "outputs": [
    {
     "name": "stdout",
     "output_type": "stream",
     "text": [
      "Files already downloaded and verified\n",
      "Files already downloaded and verified\n",
      "<class 'numpy.ndarray'>\n"
     ]
    }
   ],
   "source": [
    "transform = transforms.Compose(\n",
    "    [transforms.ToTensor(),\n",
    "     transforms.Normalize((0.5, 0.5, 0.5), (0.5, 0.5, 0.5))])\n",
    "\n",
    "# load the CIFAR 10 data\n",
    "trainset = torchvision.datasets.CIFAR10(root='./data', train=True, \n",
    "                                        download=True, transform=transform)\n",
    "\n",
    "testset = torchvision.datasets.CIFAR10(root='./data', train=False, \n",
    "                                       download=True, transform=transform)\n",
    "\n",
    "print(type(trainset.train_data))"
   ]
  },
  {
   "cell_type": "code",
   "execution_count": 8,
   "metadata": {},
   "outputs": [
    {
     "name": "stdout",
     "output_type": "stream",
     "text": [
      "<class 'numpy.ndarray'>\n",
      "<class 'list'>\n",
      "(tensor([[[[ 134.,  135.,  130.,  ...,  155.,  154.,  155.],\n",
      "          [ 140.,  138.,  133.,  ...,  154.,  153.,  152.],\n",
      "          [ 139.,  137.,  128.,  ...,  151.,  151.,  149.],\n",
      "          ...,\n",
      "          [ 120.,  124.,  131.,  ...,  124.,  124.,  125.],\n",
      "          [ 127.,  131.,  129.,  ...,  130.,  132.,  130.],\n",
      "          [ 135.,  135.,  128.,  ...,  117.,  124.,  127.]],\n",
      "\n",
      "         [[ 156.,  158.,  149.,  ...,  176.,  175.,  176.],\n",
      "          [ 162.,  160.,  152.,  ...,  175.,  174.,  174.],\n",
      "          [ 161.,  159.,  148.,  ...,  173.,  173.,  171.],\n",
      "          ...,\n",
      "          [ 157.,  161.,  170.,  ...,  164.,  162.,  161.],\n",
      "          [ 162.,  167.,  166.,  ...,  171.,  171.,  167.],\n",
      "          [ 170.,  170.,  163.,  ...,  158.,  163.,  165.]],\n",
      "\n",
      "         [[  82.,   84.,   84.,  ...,  108.,  107.,  108.],\n",
      "          [  85.,   84.,   86.,  ...,  106.,  105.,  104.],\n",
      "          [  88.,   87.,   83.,  ...,  101.,  102.,   99.],\n",
      "          ...,\n",
      "          [  51.,   54.,   56.,  ...,   58.,   56.,   60.],\n",
      "          [  68.,   69.,   64.,  ...,   62.,   61.,   60.],\n",
      "          [  81.,   80.,   72.,  ...,   50.,   51.,   55.]]],\n",
      "\n",
      "\n",
      "        [[[ 237.,  235.,  237.,  ...,  213.,  211.,  198.],\n",
      "          [ 242.,  241.,  241.,  ...,  227.,  223.,  216.],\n",
      "          [ 237.,  240.,  240.,  ...,  228.,  224.,  218.],\n",
      "          ...,\n",
      "          [ 224.,  226.,  221.,  ...,  186.,  213.,  226.],\n",
      "          [ 226.,  230.,  223.,  ...,  227.,  217.,  231.],\n",
      "          [ 209.,  221.,  219.,  ...,  234.,  216.,  229.]],\n",
      "\n",
      "         [[ 251.,  249.,  250.,  ...,  240.,  237.,  224.],\n",
      "          [ 255.,  254.,  254.,  ...,  250.,  247.,  241.],\n",
      "          [ 252.,  253.,  253.,  ...,  246.,  247.,  244.],\n",
      "          ...,\n",
      "          [ 235.,  237.,  233.,  ...,  192.,  224.,  236.],\n",
      "          [ 237.,  241.,  235.,  ...,  234.,  227.,  241.],\n",
      "          [ 220.,  232.,  230.,  ...,  240.,  224.,  236.]],\n",
      "\n",
      "         [[ 198.,  198.,  203.,  ...,  174.,  164.,  151.],\n",
      "          [ 201.,  202.,  204.,  ...,  190.,  184.,  177.],\n",
      "          [ 195.,  200.,  202.,  ...,  193.,  182.,  174.],\n",
      "          ...,\n",
      "          [ 167.,  168.,  161.,  ...,  147.,  170.,  179.],\n",
      "          [ 171.,  172.,  161.,  ...,  173.,  158.,  171.],\n",
      "          [ 154.,  165.,  158.,  ...,  170.,  145.,  159.]]],\n",
      "\n",
      "\n",
      "        [[[ 109.,   99.,   99.,  ...,  108.,  115.,  113.],\n",
      "          [ 112.,  105.,  109.,  ...,  114.,  114.,  105.],\n",
      "          [ 110.,  110.,  110.,  ...,  128.,  125.,  125.],\n",
      "          ...,\n",
      "          [  66.,   64.,   65.,  ...,   98.,   92.,   86.],\n",
      "          [  68.,   61.,   59.,  ...,   83.,   75.,   71.],\n",
      "          [  62.,   57.,   52.,  ...,   72.,   66.,   62.]],\n",
      "\n",
      "         [[ 105.,   95.,   94.,  ...,  102.,  109.,  107.],\n",
      "          [ 108.,  101.,  104.,  ...,  106.,  105.,   96.],\n",
      "          [ 106.,  106.,  106.,  ...,  116.,  113.,  113.],\n",
      "          ...,\n",
      "          [  66.,   64.,   64.,  ...,   94.,   88.,   82.],\n",
      "          [  68.,   61.,   59.,  ...,   79.,   71.,   67.],\n",
      "          [  62.,   57.,   52.,  ...,   68.,   62.,   58.]],\n",
      "\n",
      "         [[  93.,   83.,   82.,  ...,   90.,   97.,   95.],\n",
      "          [  96.,   89.,   93.,  ...,   95.,   95.,   86.],\n",
      "          [  94.,   94.,   94.,  ...,  107.,  104.,  104.],\n",
      "          ...,\n",
      "          [  54.,   52.,   52.,  ...,   82.,   77.,   71.],\n",
      "          [  56.,   49.,   47.,  ...,   68.,   60.,   56.],\n",
      "          [  49.,   45.,   40.,  ...,   57.,   51.,   47.]]],\n",
      "\n",
      "\n",
      "        ...,\n",
      "\n",
      "\n",
      "        [[[ 215.,  206.,  249.,  ...,  209.,  245.,  247.],\n",
      "          [ 167.,  207.,  253.,  ...,  130.,  230.,  252.],\n",
      "          [  73.,  140.,  230.,  ...,   82.,  145.,  229.],\n",
      "          ...,\n",
      "          [  91.,   91.,   92.,  ...,    4.,    7.,   14.],\n",
      "          [  91.,   86.,   85.,  ...,   19.,   22.,   28.],\n",
      "          [  92.,   88.,   87.,  ...,   52.,   53.,   56.]],\n",
      "\n",
      "         [[ 216.,  207.,  249.,  ...,  210.,  244.,  246.],\n",
      "          [ 168.,  208.,  253.,  ...,  134.,  231.,  252.],\n",
      "          [  74.,  141.,  231.,  ...,   90.,  149.,  232.],\n",
      "          ...,\n",
      "          [  96.,   96.,   97.,  ...,    8.,   11.,   18.],\n",
      "          [  96.,   91.,   90.,  ...,   23.,   26.,   32.],\n",
      "          [  97.,   93.,   92.,  ...,   56.,   57.,   60.]],\n",
      "\n",
      "         [[ 210.,  204.,  250.,  ...,  204.,  247.,  251.],\n",
      "          [ 160.,  203.,  252.,  ...,  116.,  227.,  255.],\n",
      "          [  64.,  135.,  227.,  ...,   62.,  137.,  230.],\n",
      "          ...,\n",
      "          [  99.,   99.,  100.,  ...,    9.,   12.,   19.],\n",
      "          [  99.,   94.,   93.,  ...,   22.,   26.,   32.],\n",
      "          [ 100.,   96.,   95.,  ...,   54.,   54.,   58.]]],\n",
      "\n",
      "\n",
      "        [[[ 160.,  162.,  164.,  ...,   48.,   31.,   46.],\n",
      "          [ 163.,  165.,  166.,  ...,   48.,   50.,   66.],\n",
      "          [ 166.,  167.,  169.,  ...,   36.,   61.,   75.],\n",
      "          ...,\n",
      "          [  42.,   41.,   55.,  ...,  191.,  187.,  196.],\n",
      "          [  47.,   40.,   63.,  ...,  206.,  199.,  179.],\n",
      "          [  11.,   41.,   82.,  ...,  196.,  211.,  198.]],\n",
      "\n",
      "         [[ 160.,  162.,  164.,  ...,   48.,   31.,   46.],\n",
      "          [ 163.,  165.,  166.,  ...,   48.,   50.,   66.],\n",
      "          [ 166.,  167.,  169.,  ...,   36.,   61.,   75.],\n",
      "          ...,\n",
      "          [  42.,   41.,   55.,  ...,  191.,  187.,  196.],\n",
      "          [  47.,   40.,   63.,  ...,  206.,  199.,  179.],\n",
      "          [  11.,   41.,   82.,  ...,  196.,  211.,  198.]],\n",
      "\n",
      "         [[ 160.,  162.,  164.,  ...,   48.,   31.,   46.],\n",
      "          [ 163.,  165.,  166.,  ...,   48.,   50.,   66.],\n",
      "          [ 166.,  167.,  169.,  ...,   36.,   61.,   75.],\n",
      "          ...,\n",
      "          [  42.,   41.,   55.,  ...,  191.,  187.,  196.],\n",
      "          [  47.,   40.,   63.,  ...,  206.,  199.,  179.],\n",
      "          [  11.,   41.,   82.,  ...,  196.,  211.,  198.]]],\n",
      "\n",
      "\n",
      "        [[[ 255.,  255.,  255.,  ...,  255.,  255.,  255.],\n",
      "          [ 255.,  255.,  255.,  ...,  254.,  255.,  255.],\n",
      "          [ 255.,  255.,  255.,  ...,  255.,  255.,  255.],\n",
      "          ...,\n",
      "          [ 255.,  255.,  255.,  ...,  255.,  255.,  255.],\n",
      "          [ 255.,  255.,  255.,  ...,  255.,  255.,  255.],\n",
      "          [ 255.,  255.,  255.,  ...,  255.,  255.,  255.]],\n",
      "\n",
      "         [[ 255.,  255.,  255.,  ...,  255.,  255.,  255.],\n",
      "          [ 255.,  255.,  255.,  ...,  254.,  255.,  255.],\n",
      "          [ 255.,  255.,  255.,  ...,  255.,  255.,  255.],\n",
      "          ...,\n",
      "          [ 255.,  255.,  255.,  ...,  255.,  255.,  255.],\n",
      "          [ 255.,  255.,  255.,  ...,  255.,  255.,  255.],\n",
      "          [ 255.,  255.,  255.,  ...,  255.,  255.,  255.]],\n",
      "\n",
      "         [[ 255.,  255.,  255.,  ...,  255.,  255.,  255.],\n",
      "          [ 255.,  255.,  255.,  ...,  253.,  255.,  255.],\n",
      "          [ 255.,  255.,  255.,  ...,  253.,  255.,  255.],\n",
      "          ...,\n",
      "          [ 255.,  255.,  255.,  ...,  255.,  255.,  255.],\n",
      "          [ 255.,  255.,  255.,  ...,  255.,  255.,  255.],\n",
      "          [ 255.,  255.,  255.,  ...,  255.,  255.,  255.]]]]), tensor([ 2,  5,  5,  6,  4,  7,  8,  1,  0,  7,  7,  5,  5,  7,\n",
      "         0,  9,  2,  2,  4,  8,  1,  1,  4,  5,  3,  1,  2,  4,\n",
      "         4,  1,  4,  6,  0,  6,  0,  7,  1,  1,  5,  3,  2,  2,\n",
      "         2,  5,  3,  9,  0,  6,  6,  8,  4,  0,  6,  8,  6,  2,\n",
      "         5,  3,  3,  4,  9,  1,  7,  6]))\n"
     ]
    }
   ],
   "source": [
    "print(type(trainset.train_data))\n",
    "print(type(trainset.train_labels))\n",
    "\n",
    "def batch2variable(batch):\n",
    "    data, label = batch\n",
    "    data = utils.to_tensor(data)\n",
    "    \n",
    "    # B x W x H x C to B x C x W x W\n",
    "    data = data.transpose(1, 2).transpose(1, 3)\n",
    "    \n",
    "    return utils.to_variable(data, dtype=torch.FloatTensor), utils.to_variable(label)\n",
    "\n",
    "# convert the trainset.train_labels to LongTensor, instead of python list\n",
    "\n",
    "data_train = DataSet([trainset.train_data, torch.LongTensor(trainset.train_labels)],\n",
    "                     batch_size=args.batch_size,\n",
    "                     drop_last=True)\n",
    "\n",
    "data_train = AsyncDataLoader(data_train, buffer_size=args.batch_size * 8,\n",
    "                             on_batch_loaded=batch2variable)\n",
    "\n",
    "data_test = DataSet([testset.test_data, torch.LongTensor(testset.test_labels)],\n",
    "                    batch_size=args.batch_size,\n",
    "                    drop_last=True)\n",
    "data_test = AsyncDataLoader(data_test, buffer_size=args.batch_size * 8,\n",
    "                            on_batch_loaded=batch2variable)\n",
    "\n",
    "# fill the data buffer\n",
    "data_train.cache()\n",
    "data_test.cache()\n",
    "\n",
    "print(next(data_train))"
   ]
  },
  {
   "cell_type": "code",
   "execution_count": 9,
   "metadata": {},
   "outputs": [
    {
     "name": "stderr",
     "output_type": "stream",
     "text": [
      "Clipping input data to the valid range for imshow with RGB data ([0..1] for floats or [0..255] for integers).\n"
     ]
    },
    {
     "name": "stdout",
     "output_type": "stream",
     "text": [
      "torch.Size([64, 3, 32, 32])\n",
      "      deer       cat      bird       car\n",
      "\n",
      "       cat      ship      deer      frog\n",
      "\n",
      "       cat      ship     truck     truck\n",
      "\n",
      "     truck     plane       car       cat\n",
      "\n"
     ]
    },
    {
     "data": {
      "image/png": "[encoded data removed]",
      "text/plain": [
       "<Figure size 432x288 with 1 Axes>"
      ]
     },
     "metadata": {},
     "output_type": "display_data"
    }
   ],
   "source": [
    "def imshow(img):\n",
    "    npimg = img.cpu().numpy()\n",
    "    plt.imshow(np.transpose(npimg, (1, 2, 0)))\n",
    "\n",
    "def showlabels(labels, qtd):\n",
    "    for j in range(1, qtd + 1):\n",
    "        print('%10s' % CLASSES[int(labels[j - 1])], end='')\n",
    "\n",
    "        if j % 4 == 0:\n",
    "            print('\\n')\n",
    "\n",
    "images, labels = next(data_train)\n",
    "print(images.shape)\n",
    "\n",
    "imshow(torchvision.utils.make_grid(images.data[:16], nrow=4))\n",
    "showlabels(labels, 16)"
   ]
  },
  {
   "cell_type": "code",
   "execution_count": 10,
   "metadata": {},
   "outputs": [],
   "source": [
    "class CNN(Model):\n",
    "    \n",
    "    def __init__(self):\n",
    "        super(CNN, self).__init__()\n",
    "            \n",
    "        self.conv1 = nn.Conv2d(3, 6, 5)\n",
    "        self.pool = nn.MaxPool2d(2, 2)\n",
    "        self.conv2 = nn.Conv2d(6, 16, 5)\n",
    "        self.fc1 = nn.Linear(16 * 5 * 5, 120)\n",
    "        self.fc2 = nn.Linear(120, 84)\n",
    "        self.fc3 = nn.Linear(84, 10)\n",
    "\n",
    "    def forward(self, batch):\n",
    "        x, _ = batch             \n",
    "        x = F.dropout(x, args.dropout)\n",
    "        x = self.pool(F.relu(self.conv1(x)))\n",
    "        x = self.pool(F.relu(self.conv2(x)))\n",
    "        x = x.view(-1, 16 * 5 * 5)\n",
    "        x = F.relu(self.fc1(x))\n",
    "        x = F.relu(self.fc2(x))\n",
    "        x = self.fc3(x)\n",
    "\n",
    "        return F.log_softmax(x, dim=1)\n",
    "    \n",
    "    def loss(self, output, batch):\n",
    "        _, expected = batch\n",
    "\n",
    "        return F.nll_loss(output, expected)"
   ]
  },
  {
   "cell_type": "code",
   "execution_count": 11,
   "metadata": {},
   "outputs": [],
   "source": [
    "cnn = CNN()\n",
    "\n",
    "optimizer = optim.Adam(cnn.parameters(), lr=args.learning_rate)"
   ]
  },
  {
   "cell_type": "code",
   "execution_count": 12,
   "metadata": {},
   "outputs": [],
   "source": [
    "cnn.register_default_plugins()\n",
    "\n",
    "early = EarlyStopping(max_tries=5, path='/tmp/model.pt')\n",
    "cnn.register_plugin(early, 'on_end_epoch')"
   ]
  },
  {
   "cell_type": "code",
   "execution_count": 13,
   "metadata": {},
   "outputs": [
    {
     "name": "stderr",
     "output_type": "stream",
     "text": [
      "2018-07-25 06:49:49 qunta-B85M-D3H cogitare.core.model[10198] INFO Model: \n",
      "\n",
      "CNN(\n",
      "  (conv1): Conv2d(3, 6, kernel_size=(5, 5), stride=(1, 1))\n",
      "  (pool): MaxPool2d(kernel_size=2, stride=2, padding=0, dilation=1, ceil_mode=False)\n",
      "  (conv2): Conv2d(6, 16, kernel_size=(5, 5), stride=(1, 1))\n",
      "  (fc1): Linear(in_features=400, out_features=120, bias=True)\n",
      "  (fc2): Linear(in_features=120, out_features=84, bias=True)\n",
      "  (fc3): Linear(in_features=84, out_features=10, bias=True)\n",
      ")\n",
      "\n",
      "2018-07-25 06:49:49 qunta-B85M-D3H cogitare.core.model[10198] INFO Training data: \n",
      "\n",
      "DataSet with:\n",
      "    containers: [\n",
      "        TensorHolder with 781x64 samples\n",
      "\tTensorHolder with 781x64 samples\n",
      "    ],\n",
      "    batch size: 64\n",
      "\n",
      "\n",
      "2018-07-25 06:49:49 qunta-B85M-D3H cogitare.core.model[10198] INFO Number of trainable parameters: 62,006\n",
      "2018-07-25 06:49:49 qunta-B85M-D3H cogitare.core.model[10198] INFO Number of non-trainable parameters: 0\n",
      "2018-07-25 06:49:49 qunta-B85M-D3H cogitare.core.model[10198] INFO Total number of parameters: 62,006\n",
      "2018-07-25 06:49:49 qunta-B85M-D3H cogitare.core.model[10198] INFO Starting the training ...\n",
      "/usr/local/lib/python3.6/dist-packages/cogitare/core/model.py:260: UserWarning: invalid index of a 0-dim tensor. This will be an error in PyTorch 0.5. Use tensor.item() to convert a 0-dim tensor to a Python number\n",
      "  return loss.data[0]\n",
      "batch:  99%|█████████▉| 776/781 [00:10<00:00, 72.85it/s]/usr/local/lib/python3.6/dist-packages/cogitare/core/model.py:411: UserWarning: invalid index of a 0-dim tensor. This will be an error in PyTorch 0.5. Use tensor.item() to convert a 0-dim tensor to a Python number\n",
      "  return loss.data[0]\n",
      "2018-07-25 06:50:00 qunta-B85M-D3H [CNN][10198] INFO [CNN] Loss: 1.715331 | 11 seconds\n",
      "batch: 100%|█████████▉| 779/781 [00:11<00:00, 72.85it/s]\n",
      "epoch:   0%|          | 0/10 [00:00<?, ?it/s]\u001b[A/usr/local/lib/python3.6/dist-packages/matplotlib/figure.py:459: UserWarning: matplotlib is currently using a non-GUI backend, so cannot show the figure\n",
      "  \"matplotlib is currently using a non-GUI backend, \"\n",
      "                                                        \n",
      "\u001b[A                                          2018-07-25 06:50:13 qunta-B85M-D3H [CNN][10198] INFO [CNN] Loss: 1.419853 | 23 seconds\n",
      "batch:   0%|          | 2/781 [00:23<00:11, 65.76it/s]\n",
      "epoch:  10%|█         | 1/10 [00:12<01:55, 12.84s/it]\u001b[A\n",
      "                                                        \n",
      "\u001b[A                                                  2018-07-25 06:50:25 qunta-B85M-D3H [CNN][10198] INFO [CNN] Loss: 1.298246 | 36 seconds\n",
      "batch:   0%|          | 2/781 [00:36<00:12, 61.88it/s]\n",
      "epoch:  20%|██        | 2/10 [00:24<00:51,  6.42s/it]\u001b[A\n",
      "                                                        \n",
      "\u001b[A                                                  2018-07-25 06:50:37 qunta-B85M-D3H [CNN][10198] INFO [CNN] Loss: 1.210210 | 48 seconds\n",
      "batch:   0%|          | 2/781 [00:48<00:10, 71.33it/s]\n",
      "epoch:  30%|███       | 3/10 [00:37<00:56,  8.14s/it]\u001b[A\n",
      "                                                        \n",
      "\u001b[A                                                  2018-07-25 06:50:51 qunta-B85M-D3H [CNN][10198] INFO [CNN] Loss: 1.138163 | 1 minutes 2 seconds\n",
      "batch:   0%|          | 2/781 [01:02<00:12, 63.23it/s]\n",
      "epoch:  40%|████      | 4/10 [00:50<00:56,  9.40s/it]\u001b[A\n",
      "                                                        \n",
      "\u001b[A                                                  2018-07-25 06:51:03 qunta-B85M-D3H [CNN][10198] INFO [CNN] Loss: 1.074532 | 1 minutes 14 seconds\n",
      "batch:   0%|          | 2/781 [01:14<00:11, 70.32it/s]\n",
      "epoch:  50%|█████     | 5/10 [01:03<00:53, 10.68s/it]\u001b[A\n",
      "                                                        \n",
      "\u001b[A                                                  2018-07-25 06:51:17 qunta-B85M-D3H [CNN][10198] INFO [CNN] Loss: 1.034578 | 1 minutes 27 seconds\n",
      "batch:   0%|          | 2/781 [01:27<00:12, 63.98it/s]\n",
      "epoch:  60%|██████    | 6/10 [01:16<00:45, 11.28s/it]\u001b[A\n",
      "                                                        \n",
      "\u001b[A                                                  2018-07-25 06:51:30 qunta-B85M-D3H [CNN][10198] INFO [CNN] Loss: 0.989006 | 1 minutes 41 seconds\n",
      "batch:   0%|          | 2/781 [01:41<00:12, 60.48it/s]\n",
      "epoch:  70%|███████   | 7/10 [01:30<00:35, 11.85s/it]\u001b[A\n",
      "                                                        \n",
      "\u001b[A                                                  2018-07-25 06:51:42 qunta-B85M-D3H [CNN][10198] INFO [CNN] Loss: 0.946589 | 1 minutes 53 seconds\n",
      "batch:   0%|          | 2/781 [01:53<00:11, 70.39it/s]\n",
      "epoch:  80%|████████  | 8/10 [01:42<00:24, 12.28s/it]\u001b[A\n",
      "                                                        \n",
      "\u001b[A                                                  2018-07-25 06:51:55 qunta-B85M-D3H [CNN][10198] INFO [CNN] Loss: 0.909068 | 2 minutes 6 seconds\n",
      "batch:   0%|          | 2/781 [02:06<00:12, 61.09it/s]\n",
      "epoch:  90%|█████████ | 9/10 [01:55<00:12, 12.35s/it]\u001b[A\n",
      "epoch:  20%|██        | 2/10 [01:55<01:39, 12.45s/it]\u001b[A2018-07-25 06:51:55 qunta-B85M-D3H cogitare.core.model[10198] INFO Training finished\n"
     ]
    },
    {
     "data": {
      "text/plain": [
       "True"
      ]
     },
     "execution_count": 13,
     "metadata": {},
     "output_type": "execute_result"
    },
    {
     "data": {
      "image/png": "[encoded data removed]",
      "text/plain": [
       "<Figure size 432x288 with 1 Axes>"
      ]
     },
     "metadata": {},
     "output_type": "display_data"
    }
   ],
   "source": [
    "if args.cuda:\n",
    "    cnn = cnn.cuda()\n",
    "\n",
    "cnn.learn(data_train, optimizer, data_test, max_epochs=args.max_epochs)"
   ]
  },
  {
   "cell_type": "code",
   "execution_count": 14,
   "metadata": {},
   "outputs": [
    {
     "name": "stderr",
     "output_type": "stream",
     "text": [
      "/usr/local/lib/python3.6/dist-packages/cogitare/core/model.py:411: UserWarning: invalid index of a 0-dim tensor. This will be an error in PyTorch 0.5. Use tensor.item() to convert a 0-dim tensor to a Python number\n",
      "  return loss.data[0]\n"
     ]
    },
    {
     "name": "stdout",
     "output_type": "stream",
     "text": [
      "Loss: 1.2881078720092773\n",
      "Accuracy: 0.5735176205635071\n"
     ]
    },
    {
     "name": "stderr",
     "output_type": "stream",
     "text": [
      "/usr/lib/python3/dist-packages/ipykernel_launcher.py:10: UserWarning: invalid index of a 0-dim tensor. This will be an error in PyTorch 0.5. Use tensor.item() to convert a 0-dim tensor to a Python number\n",
      "  # Remove the CWD from sys.path while we load stuff.\n"
     ]
    }
   ],
   "source": [
    "def model_accuracy(output, data):\n",
    "    _, indices = torch.max(output, 1)\n",
    "\n",
    "    return accuracy(indices, data[1])\n",
    "metrics = cnn.evaluate_with_metrics(data_test, \n",
    "                                    {'loss': cnn.metric_loss, 'accuracy': model_accuracy})\n",
    "metrics_mean = {'loss': 0, 'accuracy': 0}\n",
    "for loss, acc in zip(metrics['loss'], metrics['accuracy']):\n",
    "    metrics_mean['loss'] += loss\n",
    "    metrics_mean['accuracy'] += acc.data[0]\n",
    "\n",
    "qtd = len(metrics['loss'])\n",
    "\n",
    "print('Loss: {}'.format(metrics_mean['loss'] / qtd))\n",
    "print('Accuracy: {}'.format(metrics_mean['accuracy'] / qtd))"
   ]
  },
  {
   "cell_type": "code",
   "execution_count": 15,
   "metadata": {},
   "outputs": [
    {
     "name": "stderr",
     "output_type": "stream",
     "text": [
      "Clipping input data to the valid range for imshow with RGB data ([0..1] for floats or [0..255] for integers).\n"
     ]
    },
    {
     "data": {
      "image/png": "[encoded data removed]",
      "text/plain": [
       "<Figure size 432x288 with 1 Axes>"
      ]
     },
     "metadata": {},
     "output_type": "display_data"
    }
   ],
   "source": [
    "images, labels = next(data_test)\n",
    "imshow(torchvision.utils.make_grid(images.data[:16], nrow=4))"
   ]
  },
  {
   "cell_type": "code",
   "execution_count": 16,
   "metadata": {},
   "outputs": [
    {
     "name": "stdout",
     "output_type": "stream",
     "text": [
      "Predicted:\n",
      "\n",
      "      ship      frog       car     truck\n",
      "\n",
      "      deer      bird     truck      ship\n",
      "\n",
      "       car      deer     horse       dog\n",
      "\n",
      "       car       car      frog      ship\n",
      "\n"
     ]
    },
    {
     "name": "stderr",
     "output_type": "stream",
     "text": [
      "\r",
      "batch:   0%|          | 2/781 [02:20<00:12, 61.09it/s]"
     ]
    }
   ],
   "source": [
    "predicted = cnn.predict((images, None))\n",
    "predicted.shape\n",
    "\n",
    "_, predicted_labels = torch.max(predicted, dim=1)\n",
    "print('Predicted:\\n')\n",
    "showlabels(predicted_labels[:16], 16)"
   ]
  },
  {
   "cell_type": "code",
   "execution_count": null,
   "metadata": {},
   "outputs": [],
   "source": []
  }
 ],
 "metadata": {
  "kernelspec": {
   "display_name": "Python 3",
   "language": "python",
   "name": "python3"
  },
  "language_info": {
   "codemirror_mode": {
    "name": "ipython",
    "version": 3
   },
   "file_extension": ".py",
   "mimetype": "text/x-python",
   "name": "python",
   "nbconvert_exporter": "python",
   "pygments_lexer": "ipython3",
   "version": "3.6.5"
  }
 },
 "nbformat": 4,
 "nbformat_minor": 1
}
